{
  "nbformat": 4,
  "nbformat_minor": 0,
  "metadata": {
    "colab": {
      "name": "09.Saving_and_Loading_Models.ipynb",
      "provenance": [],
      "collapsed_sections": [],
      "authorship_tag": "ABX9TyM3vKY1Gd5GzeUfjHwa8Ca4",
      "include_colab_link": true
    },
    "kernelspec": {
      "name": "python3",
      "display_name": "Python 3"
    },
    "language_info": {
      "name": "python"
    },
    "accelerator": "GPU"
  },
  "cells": [
    {
      "cell_type": "markdown",
      "metadata": {
        "id": "view-in-github",
        "colab_type": "text"
      },
      "source": [
        "<a href=\"https://colab.research.google.com/github/soohyunme/TensorFlow_Tutorial/blob/main/Code/09_Saving_and_Loading_Models.ipynb\" target=\"_parent\"><img src=\"https://colab.research.google.com/assets/colab-badge.svg\" alt=\"Open In Colab\"/></a>"
      ]
    },
    {
      "cell_type": "code",
      "execution_count": 1,
      "metadata": {
        "id": "ceIx3RIefF2y"
      },
      "outputs": [],
      "source": [
        "import os\n",
        "\n",
        "os.environ['TF_CPP_MIN_LOG_LEVEL'] = '2'\n",
        "import tensorflow as tf\n",
        "from tensorflow import keras\n",
        "from tensorflow.keras import layers\n",
        "from tensorflow.keras.datasets import mnist"
      ]
    },
    {
      "cell_type": "markdown",
      "source": [
        "# Device setting"
      ],
      "metadata": {
        "id": "lVyhR0vbEpVR"
      }
    },
    {
      "cell_type": "code",
      "source": [
        "physical_devices = tf.config.list_physical_devices('GPU')\n",
        "tf.config.experimental.set_memory_growth(physical_devices[0],True)"
      ],
      "metadata": {
        "id": "IZFQhWJFEZUB"
      },
      "execution_count": 2,
      "outputs": []
    },
    {
      "cell_type": "markdown",
      "source": [
        "# Load data"
      ],
      "metadata": {
        "id": "HdWMPOUeEuUp"
      }
    },
    {
      "cell_type": "code",
      "source": [
        "(x_train,y_train), (x_test,y_test) = mnist.load_data()"
      ],
      "metadata": {
        "id": "WPt3ivEaEdB0"
      },
      "execution_count": 3,
      "outputs": []
    },
    {
      "cell_type": "markdown",
      "source": [
        "# Normalize"
      ],
      "metadata": {
        "id": "48Xn-xHFE6vw"
      }
    },
    {
      "cell_type": "code",
      "source": [
        "x_train = x_train.reshape(-1, 28 * 28).astype('float32') / 255.0\n",
        "x_test = x_test.reshape(-1, 28 * 28).astype('float32') / 255.0"
      ],
      "metadata": {
        "id": "hLEeGCNlXKRv"
      },
      "execution_count": 4,
      "outputs": []
    },
    {
      "cell_type": "markdown",
      "source": [
        "1. How to save and load model weights\n",
        "2. Save and load entire model (Serializing model)\n",
        " - Save weights\n",
        " - Model architecture\n",
        " - Training Configuration (model.compile())\n",
        " - Optimizer and states"
      ],
      "metadata": {
        "id": "LA4UQChlHeSk"
      }
    },
    {
      "cell_type": "markdown",
      "source": [
        "#Model"
      ],
      "metadata": {
        "id": "NhkrLuxLoJsx"
      }
    },
    {
      "cell_type": "markdown",
      "source": [
        "Sequential API"
      ],
      "metadata": {
        "id": "_478Yf7NIpKI"
      }
    },
    {
      "cell_type": "code",
      "source": [
        "model1 = keras.Sequential(\n",
        "    [\n",
        "        layers.Dense(64, activation='relu'),\n",
        "        layers.Dense(10)\n",
        "    ]\n",
        ")"
      ],
      "metadata": {
        "id": "LQfhwSh5Ho_P"
      },
      "execution_count": 5,
      "outputs": []
    },
    {
      "cell_type": "markdown",
      "source": [
        "Functional API"
      ],
      "metadata": {
        "id": "2wQ1kgyKIrhO"
      }
    },
    {
      "cell_type": "code",
      "source": [
        "inputs = keras.Input(784)\n",
        "x = layers.Dense(64, activation='relu')(inputs)\n",
        "outputs = layers.Dense(10)(x)\n",
        "model2 = keras.Model(inputs=inputs, outputs=outputs)"
      ],
      "metadata": {
        "id": "iXRHFTEwH5BP"
      },
      "execution_count": 6,
      "outputs": []
    },
    {
      "cell_type": "markdown",
      "source": [
        "Subclassing"
      ],
      "metadata": {
        "id": "tSEcnXfbIx5u"
      }
    },
    {
      "cell_type": "code",
      "source": [
        "class MyModel(keras.Model):\n",
        "  def __init__(self):\n",
        "    super(MyModel, self).__init__()\n",
        "    self.dense1 = layers.Dense(64, activation='relu'),\n",
        "    self.dense2 = layers.Dense(10)\n",
        "  \n",
        "  def call(self, input_tensor):\n",
        "    x = tf.nn.relu(self.dense1(input_tensor))\n",
        "    return self.dense2(x)\n",
        "  \n",
        "model3 = MyModel()"
      ],
      "metadata": {
        "id": "g0zIZkPPH3TQ"
      },
      "execution_count": 7,
      "outputs": []
    },
    {
      "cell_type": "markdown",
      "source": [
        "## 모델 weights 저장"
      ],
      "metadata": {
        "id": "idloryi5NgAU"
      }
    },
    {
      "cell_type": "code",
      "source": [
        "model = model1\n",
        "\n",
        "model.compile(\n",
        "    loss = keras.losses.SparseCategoricalCrossentropy(from_logits=True),\n",
        "    optimizer = keras.optimizers.Adam(),\n",
        "    metrics = ['accuracy'],\n",
        ")"
      ],
      "metadata": {
        "id": "wpuwHQyWImaP"
      },
      "execution_count": 8,
      "outputs": []
    },
    {
      "cell_type": "code",
      "source": [
        "model.fit(x_train, y_train, batch_size=32, epochs=2, verbose=2)\n",
        "model.evaluate(x_test, y_test, batch_size=32, verbose=2)"
      ],
      "metadata": {
        "colab": {
          "base_uri": "https://localhost:8080/"
        },
        "id": "xaejsVlILJJc",
        "outputId": "14dfb562-f7d6-4dfb-e89a-cb164726ea37"
      },
      "execution_count": 9,
      "outputs": [
        {
          "output_type": "stream",
          "name": "stdout",
          "text": [
            "Epoch 1/2\n",
            "1875/1875 - 8s - loss: 0.2947 - accuracy: 0.9169 - 8s/epoch - 4ms/step\n",
            "Epoch 2/2\n",
            "1875/1875 - 6s - loss: 0.1430 - accuracy: 0.9585 - 6s/epoch - 3ms/step\n",
            "313/313 - 1s - loss: 0.1212 - accuracy: 0.9638 - 822ms/epoch - 3ms/step\n"
          ]
        },
        {
          "output_type": "execute_result",
          "data": {
            "text/plain": [
              "[0.12115960568189621, 0.9638000130653381]"
            ]
          },
          "metadata": {},
          "execution_count": 9
        }
      ]
    },
    {
      "cell_type": "code",
      "source": [
        "model.save_weights('save_model/')"
      ],
      "metadata": {
        "id": "a_12UtBkLev0"
      },
      "execution_count": 10,
      "outputs": []
    },
    {
      "cell_type": "code",
      "source": [
        "model = model1\n",
        "model.load_weights('save_model/')\n",
        "model.compile(\n",
        "    loss = keras.losses.SparseCategoricalCrossentropy(from_logits=True),\n",
        "    optimizer = keras.optimizers.Adam(),\n",
        "    metrics = ['accuracy']\n",
        ")\n",
        "model.fit(x_train, y_train, batch_size=32, epochs=2, verbose=2)\n",
        "model.evaluate(x_test, y_test, batch_size=32, verbose=2)"
      ],
      "metadata": {
        "colab": {
          "base_uri": "https://localhost:8080/"
        },
        "id": "y-gCSpmNLnUs",
        "outputId": "7748d30c-161a-4c09-add2-175b313a1586"
      },
      "execution_count": 11,
      "outputs": [
        {
          "output_type": "stream",
          "name": "stdout",
          "text": [
            "Epoch 1/2\n",
            "1875/1875 - 4s - loss: 0.1040 - accuracy: 0.9696 - 4s/epoch - 2ms/step\n",
            "Epoch 2/2\n",
            "1875/1875 - 4s - loss: 0.0815 - accuracy: 0.9753 - 4s/epoch - 2ms/step\n",
            "313/313 - 1s - loss: 0.0938 - accuracy: 0.9722 - 757ms/epoch - 2ms/step\n"
          ]
        },
        {
          "output_type": "execute_result",
          "data": {
            "text/plain": [
              "[0.09383470565080643, 0.9721999764442444]"
            ]
          },
          "metadata": {},
          "execution_count": 11
        }
      ]
    },
    {
      "cell_type": "markdown",
      "source": [
        "model1의 weights를 저장했기 때문에 model2로 load 시 경고 발생"
      ],
      "metadata": {
        "id": "ryRo05PnMTgE"
      }
    },
    {
      "cell_type": "code",
      "source": [
        "model = model2\n",
        "model.load_weights('save_model/')\n",
        "model.compile(\n",
        "    loss = keras.losses.SparseCategoricalCrossentropy(from_logits=True),\n",
        "    optimizer = keras.optimizers.Adam(),\n",
        "    metrics = ['accuracy']\n",
        ")\n",
        "model.fit(x_train, y_train, batch_size=32, epochs=2, verbose=2)\n",
        "model.evaluate(x_test, y_test, batch_size=32, verbose=2)"
      ],
      "metadata": {
        "colab": {
          "base_uri": "https://localhost:8080/"
        },
        "id": "G7_muPy-MIzU",
        "outputId": "8df5cf1e-30bf-41a9-e170-be0490aad7a0"
      },
      "execution_count": 12,
      "outputs": [
        {
          "output_type": "stream",
          "name": "stdout",
          "text": [
            "WARNING:tensorflow:Inconsistent references when loading the checkpoint into this object graph. Either the Trackable object references in the Python program have changed in an incompatible way, or the checkpoint was generated in an incompatible program.\n",
            "\n",
            "Two checkpoint references resolved to different objects (<keras.layers.core.dense.Dense object at 0x7f830b8a41d0> and <keras.engine.input_layer.InputLayer object at 0x7f8300ab1190>).\n",
            "WARNING:tensorflow:Inconsistent references when loading the checkpoint into this object graph. Either the Trackable object references in the Python program have changed in an incompatible way, or the checkpoint was generated in an incompatible program.\n",
            "\n",
            "Two checkpoint references resolved to different objects (<keras.layers.core.dense.Dense object at 0x7f830b8d4e90> and <keras.layers.core.dense.Dense object at 0x7f830b8a41d0>).\n",
            "Epoch 1/2\n",
            "1875/1875 - 4s - loss: 0.1034 - accuracy: 0.9696 - 4s/epoch - 2ms/step\n",
            "Epoch 2/2\n",
            "1875/1875 - 4s - loss: 0.0818 - accuracy: 0.9750 - 4s/epoch - 2ms/step\n",
            "313/313 - 1s - loss: 0.0935 - accuracy: 0.9726 - 763ms/epoch - 2ms/step\n"
          ]
        },
        {
          "output_type": "execute_result",
          "data": {
            "text/plain": [
              "[0.09351453185081482, 0.972599983215332]"
            ]
          },
          "metadata": {},
          "execution_count": 12
        }
      ]
    },
    {
      "cell_type": "markdown",
      "source": [
        "## 모델 전체 저장"
      ],
      "metadata": {
        "id": "t846Wk7ENeYc"
      }
    },
    {
      "cell_type": "code",
      "source": [
        "model = model1\n",
        "\n",
        "model.compile(\n",
        "    loss = keras.losses.SparseCategoricalCrossentropy(from_logits=True),\n",
        "    optimizer = keras.optimizers.Adam(),\n",
        "    metrics = ['accuracy'],\n",
        ")"
      ],
      "metadata": {
        "id": "a40N20MHMXq0"
      },
      "execution_count": 13,
      "outputs": []
    },
    {
      "cell_type": "code",
      "source": [
        "model.fit(x_train, y_train, batch_size=32, epochs=2, verbose=2)\n",
        "model.evaluate(x_test, y_test, batch_size=32, verbose=2)"
      ],
      "metadata": {
        "colab": {
          "base_uri": "https://localhost:8080/"
        },
        "id": "R4mqveYpNlZ2",
        "outputId": "f2afcec0-377c-4e00-daeb-075a692adfbf"
      },
      "execution_count": 14,
      "outputs": [
        {
          "output_type": "stream",
          "name": "stdout",
          "text": [
            "Epoch 1/2\n",
            "1875/1875 - 4s - loss: 0.0680 - accuracy: 0.9795 - 4s/epoch - 2ms/step\n",
            "Epoch 2/2\n",
            "1875/1875 - 4s - loss: 0.0551 - accuracy: 0.9828 - 4s/epoch - 2ms/step\n",
            "313/313 - 1s - loss: 0.0871 - accuracy: 0.9733 - 767ms/epoch - 2ms/step\n"
          ]
        },
        {
          "output_type": "execute_result",
          "data": {
            "text/plain": [
              "[0.0871044173836708, 0.9732999801635742]"
            ]
          },
          "metadata": {},
          "execution_count": 14
        }
      ]
    },
    {
      "cell_type": "code",
      "source": [
        "model.save('complete_saved_model/')"
      ],
      "metadata": {
        "colab": {
          "base_uri": "https://localhost:8080/"
        },
        "id": "1tcPbjLbNrcE",
        "outputId": "b4e0e7a7-44d7-4a3e-8a39-1da732770062"
      },
      "execution_count": 15,
      "outputs": [
        {
          "output_type": "stream",
          "name": "stdout",
          "text": [
            "INFO:tensorflow:Assets written to: complete_saved_model/assets\n"
          ]
        }
      ]
    },
    {
      "cell_type": "markdown",
      "source": [
        "모델 전체를 저장했기 때문에 불러올 때 모델에 대한 정의가 필요없음"
      ],
      "metadata": {
        "id": "UYuIrJ0fOrus"
      }
    },
    {
      "cell_type": "code",
      "source": [
        "model = keras.models.load_model('complete_saved_model/')"
      ],
      "metadata": {
        "id": "vPdHDXAXOGV0"
      },
      "execution_count": 16,
      "outputs": []
    },
    {
      "cell_type": "code",
      "source": [
        "model.fit(x_train, y_train, batch_size=32, epochs=2, verbose=2)\n",
        "model.evaluate(x_test, y_test, batch_size=32, verbose=2)"
      ],
      "metadata": {
        "colab": {
          "base_uri": "https://localhost:8080/"
        },
        "id": "jl-XpBJrOrCc",
        "outputId": "655c8444-b7bc-42e1-a815-0dd9f7dfe58d"
      },
      "execution_count": 17,
      "outputs": [
        {
          "output_type": "stream",
          "name": "stdout",
          "text": [
            "Epoch 1/2\n",
            "1875/1875 - 4s - loss: 0.0479 - accuracy: 0.9848 - 4s/epoch - 2ms/step\n",
            "Epoch 2/2\n",
            "1875/1875 - 4s - loss: 0.0396 - accuracy: 0.9879 - 4s/epoch - 2ms/step\n",
            "313/313 - 1s - loss: 0.0866 - accuracy: 0.9746 - 759ms/epoch - 2ms/step\n"
          ]
        },
        {
          "output_type": "execute_result",
          "data": {
            "text/plain": [
              "[0.08664020895957947, 0.9746000170707703]"
            ]
          },
          "metadata": {},
          "execution_count": 17
        }
      ]
    }
  ]
}