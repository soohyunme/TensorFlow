{
  "nbformat": 4,
  "nbformat_minor": 0,
  "metadata": {
    "colab": {
      "name": "03.CNN.ipynb",
      "provenance": [],
      "collapsed_sections": [
        "lVyhR0vbEpVR",
        "HdWMPOUeEuUp",
        "48Xn-xHFE6vw"
      ],
      "authorship_tag": "ABX9TyMu0L6Kt5nauiWh/eO//fD0",
      "include_colab_link": true
    },
    "kernelspec": {
      "name": "python3",
      "display_name": "Python 3"
    },
    "language_info": {
      "name": "python"
    },
    "accelerator": "GPU"
  },
  "cells": [
    {
      "cell_type": "markdown",
      "metadata": {
        "id": "view-in-github",
        "colab_type": "text"
      },
      "source": [
        "<a href=\"https://colab.research.google.com/github/soohyunme/TensorFlow_Tutorial/blob/main/Code/03_CNN.ipynb\" target=\"_parent\"><img src=\"https://colab.research.google.com/assets/colab-badge.svg\" alt=\"Open In Colab\"/></a>"
      ]
    },
    {
      "cell_type": "code",
      "execution_count": 316,
      "metadata": {
        "id": "kbvMfen8HHU-"
      },
      "outputs": [],
      "source": [
        "import os\n",
        "from threading import active_count\n",
        "\n",
        "from tensorflow.python.keras.layers.core import Activation\n",
        "os.environ['TF_CPP_MIN_LOG_LEVEL'] = '2'\n",
        "import tensorflow as tf\n",
        "from tensorflow import keras\n",
        "from tensorflow.keras import layers\n",
        "from tensorflow.keras.datasets import cifar10\n"
      ]
    },
    {
      "cell_type": "markdown",
      "source": [
        "# Device setting"
      ],
      "metadata": {
        "id": "lVyhR0vbEpVR"
      }
    },
    {
      "cell_type": "code",
      "source": [
        "physical_devices = tf.config.list_physical_devices('GPU')\n",
        "tf.config.experimental.set_memory_growth(physical_devices[0],True)"
      ],
      "metadata": {
        "id": "IZFQhWJFEZUB"
      },
      "execution_count": 317,
      "outputs": []
    },
    {
      "cell_type": "markdown",
      "source": [
        "# Load data"
      ],
      "metadata": {
        "id": "HdWMPOUeEuUp"
      }
    },
    {
      "cell_type": "code",
      "source": [
        "(x_train,y_train), (x_test,y_test) = cifar10.load_data()"
      ],
      "metadata": {
        "id": "WPt3ivEaEdB0"
      },
      "execution_count": 318,
      "outputs": []
    },
    {
      "cell_type": "markdown",
      "source": [
        "# Normalize"
      ],
      "metadata": {
        "id": "48Xn-xHFE6vw"
      }
    },
    {
      "cell_type": "code",
      "source": [
        "x_train = x_train.astype('float32') / 255.0\n",
        "x_test = x_test.astype('float32') / 255.0"
      ],
      "metadata": {
        "id": "pv2SrixNE6LB"
      },
      "execution_count": 319,
      "outputs": []
    },
    {
      "cell_type": "markdown",
      "source": [
        "# Initialize model"
      ],
      "metadata": {
        "id": "1LeauvNMFHLB"
      }
    },
    {
      "cell_type": "code",
      "source": [
        "model = keras.Sequential(\n",
        "    [\n",
        "     keras.Input(shape=(32,32,3)),\n",
        "     layers.Conv2D(32, 3, padding='valid', activation='relu'),\n",
        "     layers.MaxPooling2D(pool_size=(2,2)),\n",
        "     layers.Conv2D(64, 3, activation='relu'),\n",
        "     layers.MaxPooling2D(pool_size=(2,2)),\n",
        "     layers.Conv2D(128, 3, activation='relu'),\n",
        "     layers.Flatten(),\n",
        "     layers.Dense(64,activation='relu'),\n",
        "     layers.Dense(10),\n",
        "\n",
        "    ]\n",
        ")"
      ],
      "metadata": {
        "id": "zWA9Xp4HFDw8"
      },
      "execution_count": 320,
      "outputs": []
    },
    {
      "cell_type": "code",
      "source": [
        "print(model.summary())"
      ],
      "metadata": {
        "colab": {
          "base_uri": "https://localhost:8080/"
        },
        "id": "dO9OQmwyGkV8",
        "outputId": "5e16d964-5cfa-48c3-d929-cb6a4fdb750e"
      },
      "execution_count": 321,
      "outputs": [
        {
          "output_type": "stream",
          "name": "stdout",
          "text": [
            "Model: \"sequential_15\"\n",
            "_________________________________________________________________\n",
            "Layer (type)                 Output Shape              Param #   \n",
            "=================================================================\n",
            "conv2d_171 (Conv2D)          (None, 30, 30, 32)        896       \n",
            "_________________________________________________________________\n",
            "max_pooling2d_79 (MaxPooling (None, 15, 15, 32)        0         \n",
            "_________________________________________________________________\n",
            "conv2d_172 (Conv2D)          (None, 13, 13, 64)        18496     \n",
            "_________________________________________________________________\n",
            "max_pooling2d_80 (MaxPooling (None, 6, 6, 64)          0         \n",
            "_________________________________________________________________\n",
            "conv2d_173 (Conv2D)          (None, 4, 4, 128)         73856     \n",
            "_________________________________________________________________\n",
            "flatten_54 (Flatten)         (None, 2048)              0         \n",
            "_________________________________________________________________\n",
            "dense_106 (Dense)            (None, 64)                131136    \n",
            "_________________________________________________________________\n",
            "dense_107 (Dense)            (None, 10)                650       \n",
            "=================================================================\n",
            "Total params: 225,034\n",
            "Trainable params: 225,034\n",
            "Non-trainable params: 0\n",
            "_________________________________________________________________\n",
            "None\n"
          ]
        }
      ]
    },
    {
      "cell_type": "code",
      "source": [
        "def my_model():\n",
        "  with tf.device('/device:GPU:0'):\n",
        "      inputs = keras.Input(shape=(32, 32, 3))\n",
        "      x = layers.Conv2D(32, 3)(inputs)\n",
        "      x = layers.BatchNormalization()(x)\n",
        "      x = keras.activations.relu(x)\n",
        "      x = layers.MaxPooling2D()(x)\n",
        "      \n",
        "      x = layers.Conv2D(64, 3)(x)\n",
        "      x = layers.BatchNormalization()(x)\n",
        "      x = keras.activations.relu(x)\n",
        "      x = layers.MaxPooling2D()(x)\n",
        "      \n",
        "      x = layers.Conv2D(128, 3)(x)\n",
        "      x = layers.BatchNormalization()(x)\n",
        "      x = keras.activations.relu(x)\n",
        "      \n",
        "      x = layers.Flatten()(x)\n",
        "      x = layers.Dense(64, activation=\"relu\")(x)\n",
        "      outputs = layers.Dense(10)(x)\n",
        "      model = keras.Model(inputs=inputs, outputs=outputs)\n",
        "      return model"
      ],
      "metadata": {
        "id": "mUkwMzqPZ5Kf"
      },
      "execution_count": 322,
      "outputs": []
    },
    {
      "cell_type": "markdown",
      "source": [
        "## New model\n"
      ],
      "metadata": {
        "id": "Bmn_nE39J3aD"
      }
    },
    {
      "cell_type": "code",
      "source": [
        "def new_model():\n",
        "   with tf.device('/device:GPU:0'):\n",
        "      inputs = keras.Input(shape=(32,32,3))\n",
        "      x = layers.Conv2D(32,3)(inputs)\n",
        "      x = layers.BatchNormalization()(x)\n",
        "      x = keras.activations.relu(x)\n",
        "      x = layers.MaxPooling2D()(x)\n",
        "      x = layers.Dropout(0.2)(x)\n",
        "      \n",
        "      x = layers.Conv2D(64, 3, padding='same')(x)\n",
        "      x = layers.BatchNormalization()(x)\n",
        "      x = keras.activations.relu(x)\n",
        "      x = layers.Dropout(0.2)(x)\n",
        "\n",
        "      x = layers.Conv2D(128,3)(x)\n",
        "      x = layers.BatchNormalization()(x)\n",
        "      x = keras.activations.relu(x)\n",
        "      x = layers.Dropout(0.2)(x)\n",
        "      \n",
        "      x = layers.Flatten()(x)\n",
        "      x = layers.Dense(64, activation='relu')(x)\n",
        "      outputs = layers.Dense(10)(x)\n",
        "      model = keras.Model(inputs=inputs, outputs=outputs)\n",
        "      return model\n"
      ],
      "metadata": {
        "id": "gE1anQfjSV79"
      },
      "execution_count": 323,
      "outputs": []
    },
    {
      "cell_type": "code",
      "source": [
        "# model = my_model()\n",
        "model = new_model()"
      ],
      "metadata": {
        "id": "fGPOAMl6KoJi"
      },
      "execution_count": 324,
      "outputs": []
    },
    {
      "cell_type": "code",
      "source": [
        "print(model.summary())\n"
      ],
      "metadata": {
        "colab": {
          "base_uri": "https://localhost:8080/"
        },
        "id": "sa_s0asmMMS9",
        "outputId": "017fe220-793b-41a2-9c76-5be9e32d0329"
      },
      "execution_count": 325,
      "outputs": [
        {
          "output_type": "stream",
          "name": "stdout",
          "text": [
            "Model: \"model_38\"\n",
            "_________________________________________________________________\n",
            "Layer (type)                 Output Shape              Param #   \n",
            "=================================================================\n",
            "input_57 (InputLayer)        [(None, 32, 32, 3)]       0         \n",
            "_________________________________________________________________\n",
            "conv2d_174 (Conv2D)          (None, 30, 30, 32)        896       \n",
            "_________________________________________________________________\n",
            "batch_normalization_128 (Bat (None, 30, 30, 32)        128       \n",
            "_________________________________________________________________\n",
            "tf.nn.relu_128 (TFOpLambda)  (None, 30, 30, 32)        0         \n",
            "_________________________________________________________________\n",
            "max_pooling2d_81 (MaxPooling (None, 15, 15, 32)        0         \n",
            "_________________________________________________________________\n",
            "dropout_25 (Dropout)         (None, 15, 15, 32)        0         \n",
            "_________________________________________________________________\n",
            "conv2d_175 (Conv2D)          (None, 15, 15, 64)        18496     \n",
            "_________________________________________________________________\n",
            "batch_normalization_129 (Bat (None, 15, 15, 64)        256       \n",
            "_________________________________________________________________\n",
            "tf.nn.relu_129 (TFOpLambda)  (None, 15, 15, 64)        0         \n",
            "_________________________________________________________________\n",
            "dropout_26 (Dropout)         (None, 15, 15, 64)        0         \n",
            "_________________________________________________________________\n",
            "conv2d_176 (Conv2D)          (None, 13, 13, 128)       73856     \n",
            "_________________________________________________________________\n",
            "batch_normalization_130 (Bat (None, 13, 13, 128)       512       \n",
            "_________________________________________________________________\n",
            "tf.nn.relu_130 (TFOpLambda)  (None, 13, 13, 128)       0         \n",
            "_________________________________________________________________\n",
            "dropout_27 (Dropout)         (None, 13, 13, 128)       0         \n",
            "_________________________________________________________________\n",
            "flatten_55 (Flatten)         (None, 21632)             0         \n",
            "_________________________________________________________________\n",
            "dense_108 (Dense)            (None, 64)                1384512   \n",
            "_________________________________________________________________\n",
            "dense_109 (Dense)            (None, 10)                650       \n",
            "=================================================================\n",
            "Total params: 1,479,306\n",
            "Trainable params: 1,478,858\n",
            "Non-trainable params: 448\n",
            "_________________________________________________________________\n",
            "None\n"
          ]
        }
      ]
    },
    {
      "cell_type": "markdown",
      "source": [
        "# Model compile"
      ],
      "metadata": {
        "id": "ma7S5FwtIlNK"
      }
    },
    {
      "cell_type": "code",
      "source": [
        "model.compile(\n",
        "    loss = keras.losses.SparseCategoricalCrossentropy(from_logits=True),\n",
        "    optimizer = keras.optimizers.Adam(lr=3e-4),\n",
        "    metrics=['accuracy'],\n",
        ")"
      ],
      "metadata": {
        "colab": {
          "base_uri": "https://localhost:8080/"
        },
        "id": "fEN7xxAkHEL5",
        "outputId": "c3032ffe-6706-4931-94ef-5afc34fa92bd"
      },
      "execution_count": 326,
      "outputs": [
        {
          "output_type": "stream",
          "name": "stderr",
          "text": [
            "/usr/local/lib/python3.7/dist-packages/keras/optimizer_v2/optimizer_v2.py:356: UserWarning: The `lr` argument is deprecated, use `learning_rate` instead.\n",
            "  \"The `lr` argument is deprecated, use `learning_rate` instead.\")\n"
          ]
        }
      ]
    },
    {
      "cell_type": "markdown",
      "source": [
        "# Train and evaluate"
      ],
      "metadata": {
        "id": "mHzEfDtrIpxi"
      }
    },
    {
      "cell_type": "code",
      "source": [
        "with tf.device('/device:GPU:0'):\n",
        "  history = model.fit(x_train, y_train, batch_size=64, epochs=30, verbose=2)\n",
        "  model.evaluate(x_test, y_test, batch_size=64, verbose=2)"
      ],
      "metadata": {
        "colab": {
          "base_uri": "https://localhost:8080/"
        },
        "id": "GTbsDFaNKLpH",
        "outputId": "b5058f07-2881-42b6-cbd7-55611d2d9ded"
      },
      "execution_count": 327,
      "outputs": [
        {
          "output_type": "stream",
          "name": "stdout",
          "text": [
            "Epoch 1/30\n",
            "782/782 - 5s - loss: 1.4617 - accuracy: 0.4830\n",
            "Epoch 2/30\n",
            "782/782 - 4s - loss: 1.1058 - accuracy: 0.6095\n",
            "Epoch 3/30\n",
            "782/782 - 4s - loss: 0.9579 - accuracy: 0.6614\n",
            "Epoch 4/30\n",
            "782/782 - 4s - loss: 0.8601 - accuracy: 0.6982\n",
            "Epoch 5/30\n",
            "782/782 - 4s - loss: 0.7936 - accuracy: 0.7218\n",
            "Epoch 6/30\n",
            "782/782 - 4s - loss: 0.7387 - accuracy: 0.7406\n",
            "Epoch 7/30\n",
            "782/782 - 4s - loss: 0.7034 - accuracy: 0.7543\n",
            "Epoch 8/30\n",
            "782/782 - 4s - loss: 0.6573 - accuracy: 0.7697\n",
            "Epoch 9/30\n",
            "782/782 - 4s - loss: 0.6240 - accuracy: 0.7826\n",
            "Epoch 10/30\n",
            "782/782 - 4s - loss: 0.5936 - accuracy: 0.7915\n",
            "Epoch 11/30\n",
            "782/782 - 4s - loss: 0.5659 - accuracy: 0.8001\n",
            "Epoch 12/30\n",
            "782/782 - 4s - loss: 0.5353 - accuracy: 0.8103\n",
            "Epoch 13/30\n",
            "782/782 - 4s - loss: 0.5115 - accuracy: 0.8215\n",
            "Epoch 14/30\n",
            "782/782 - 4s - loss: 0.4958 - accuracy: 0.8233\n",
            "Epoch 15/30\n",
            "782/782 - 4s - loss: 0.4677 - accuracy: 0.8349\n",
            "Epoch 16/30\n",
            "782/782 - 4s - loss: 0.4561 - accuracy: 0.8384\n",
            "Epoch 17/30\n",
            "782/782 - 4s - loss: 0.4306 - accuracy: 0.8459\n",
            "Epoch 18/30\n",
            "782/782 - 4s - loss: 0.4198 - accuracy: 0.8512\n",
            "Epoch 19/30\n",
            "782/782 - 4s - loss: 0.4020 - accuracy: 0.8584\n",
            "Epoch 20/30\n",
            "782/782 - 4s - loss: 0.3914 - accuracy: 0.8618\n",
            "Epoch 21/30\n",
            "782/782 - 4s - loss: 0.3763 - accuracy: 0.8662\n",
            "Epoch 22/30\n",
            "782/782 - 4s - loss: 0.3703 - accuracy: 0.8684\n",
            "Epoch 23/30\n",
            "782/782 - 4s - loss: 0.3533 - accuracy: 0.8729\n",
            "Epoch 24/30\n",
            "782/782 - 4s - loss: 0.3400 - accuracy: 0.8799\n",
            "Epoch 25/30\n",
            "782/782 - 4s - loss: 0.3276 - accuracy: 0.8841\n",
            "Epoch 26/30\n",
            "782/782 - 4s - loss: 0.3231 - accuracy: 0.8831\n",
            "Epoch 27/30\n",
            "782/782 - 4s - loss: 0.3108 - accuracy: 0.8873\n",
            "Epoch 28/30\n",
            "782/782 - 4s - loss: 0.2985 - accuracy: 0.8931\n",
            "Epoch 29/30\n",
            "782/782 - 4s - loss: 0.2919 - accuracy: 0.8959\n",
            "Epoch 30/30\n",
            "782/782 - 4s - loss: 0.2837 - accuracy: 0.8974\n",
            "157/157 - 1s - loss: 0.7827 - accuracy: 0.7704\n"
          ]
        }
      ]
    },
    {
      "cell_type": "markdown",
      "source": [
        "# SUGGESTIONS\n"
      ],
      "metadata": {
        "id": "AKtNmJf3K_cc"
      }
    },
    {
      "cell_type": "markdown",
      "source": [
        "1. **What accuracy can you get on the test set by training longer, increasing the model size, changing kernel sizes, etc?**\n",
        "> Baseline : 0.7197  \n",
        "> Add MaxPooling each Conv2D : 0.6812  \n",
        "> More Conv2D layer : 0.7133  \n",
        "> Change kernel size : 0.6547  \n",
        "> Change kernel size +  more epochs : 0.6669  \n",
        "> Increase batch size + more epochs : 0.7007  \n",
        "> Increase batch size : 0.6738  \n",
        "> (Baseline) Apply drop out(0.2) + more epochs(30) : 0.7732\n",
        "\n",
        "2. **In the last video we train a FC on MNIST: what can you get by using a conv net instead?**\n",
        "> FC보다 파라미터의 수를 줄일 수 있음  \n",
        "> 이미지의 형상을 고려하여 학습할 수 있음  \n",
        "> 보다 적은 양의 학습 데이터로도 더 빠른 시간으로 학습이 가능"
      ],
      "metadata": {
        "id": "9aL-R70vLCZq"
      }
    }
  ]
}