{
  "nbformat": 4,
  "nbformat_minor": 0,
  "metadata": {
    "colab": {
      "name": "03.CNN.ipynb",
      "private_outputs": true,
      "provenance": [],
      "collapsed_sections": [
        "lVyhR0vbEpVR",
        "HdWMPOUeEuUp",
        "48Xn-xHFE6vw"
      ],
      "authorship_tag": "ABX9TyMKf/8UXJTxPBwMuAMDaloP",
      "include_colab_link": true
    },
    "kernelspec": {
      "name": "python3",
      "display_name": "Python 3"
    },
    "language_info": {
      "name": "python"
    }
  },
  "cells": [
    {
      "cell_type": "markdown",
      "metadata": {
        "id": "view-in-github",
        "colab_type": "text"
      },
      "source": [
        "<a href=\"https://colab.research.google.com/github/soohyunme/TensorFlow_Tutorial/blob/main/Code/03_CNN.ipynb\" target=\"_parent\"><img src=\"https://colab.research.google.com/assets/colab-badge.svg\" alt=\"Open In Colab\"/></a>"
      ]
    },
    {
      "cell_type": "code",
      "execution_count": null,
      "metadata": {
        "id": "kbvMfen8HHU-"
      },
      "outputs": [],
      "source": [
        "import os\n",
        "from threading import active_count\n",
        "\n",
        "from tensorflow.python.keras.layers.core import Activation\n",
        "os.environ['TF_CPP_MIN_LOG_LEVEL'] = '2'\n",
        "import tensorflow as tf\n",
        "from tensorflow import keras\n",
        "from tensorflow.keras import layers\n",
        "from tensorflow.keras.datasets import cifar10\n"
      ]
    },
    {
      "cell_type": "markdown",
      "source": [
        "# Device setting"
      ],
      "metadata": {
        "id": "lVyhR0vbEpVR"
      }
    },
    {
      "cell_type": "code",
      "source": [
        "physical_devices = tf.config.list_physical_devices('GPU')\n",
        "tf.config.experimental.set_memory_growth(physical_devices[0],True)"
      ],
      "metadata": {
        "id": "IZFQhWJFEZUB"
      },
      "execution_count": null,
      "outputs": []
    },
    {
      "cell_type": "markdown",
      "source": [
        "# Load data"
      ],
      "metadata": {
        "id": "HdWMPOUeEuUp"
      }
    },
    {
      "cell_type": "code",
      "source": [
        "(x_train,y_train), (x_test,y_test) = cifar10.load_data()"
      ],
      "metadata": {
        "id": "WPt3ivEaEdB0"
      },
      "execution_count": null,
      "outputs": []
    },
    {
      "cell_type": "markdown",
      "source": [
        "# Normalize"
      ],
      "metadata": {
        "id": "48Xn-xHFE6vw"
      }
    },
    {
      "cell_type": "code",
      "source": [
        "x_train = x_train.astype('float32') / 255.0\n",
        "x_test = x_test.astype('float32') / 255.0"
      ],
      "metadata": {
        "id": "pv2SrixNE6LB"
      },
      "execution_count": null,
      "outputs": []
    },
    {
      "cell_type": "markdown",
      "source": [
        "# Initialize model"
      ],
      "metadata": {
        "id": "1LeauvNMFHLB"
      }
    },
    {
      "cell_type": "code",
      "source": [
        "model = keras.Sequential(\n",
        "    [\n",
        "     keras.Input(shape=(32,32,3)),\n",
        "     layers.Conv2D(32, 3, padding='valid', activation='relu'),\n",
        "     layers.MaxPooling2D(pool_size=(2,2)),\n",
        "     layers.Conv2D(64, 3, activation='relu'),\n",
        "     layers.MaxPooling2D(pool_size=(2,2)),\n",
        "     layers.Conv2D(128, 3, activation='relu'),\n",
        "     layers.Flatten(),\n",
        "     layers.Dense(64,activation='relu'),\n",
        "     layers.Dense(10),\n",
        "\n",
        "    ]\n",
        ")"
      ],
      "metadata": {
        "id": "zWA9Xp4HFDw8"
      },
      "execution_count": null,
      "outputs": []
    },
    {
      "cell_type": "code",
      "source": [
        "print(model.summary())"
      ],
      "metadata": {
        "id": "dO9OQmwyGkV8"
      },
      "execution_count": null,
      "outputs": []
    },
    {
      "cell_type": "code",
      "source": [
        "def my_model():\n",
        "  with tf.device('/device:GPU:0'):\n",
        "      inputs = keras.Input(shape=(32, 32, 3))\n",
        "      x = layers.Conv2D(32, 3)(inputs)\n",
        "      x = layers.BatchNormalization()(x)\n",
        "      x = keras.activations.relu(x)\n",
        "      x = layers.MaxPooling2D()(x)\n",
        "      \n",
        "      x = layers.Conv2D(64, 3)(x)\n",
        "      x = layers.BatchNormalization()(x)\n",
        "      x = keras.activations.relu(x)\n",
        "      x = layers.MaxPooling2D()(x)\n",
        "      \n",
        "      x = layers.Conv2D(128, 3)(x)\n",
        "      x = layers.BatchNormalization()(x)\n",
        "      x = keras.activations.relu(x)\n",
        "      \n",
        "      x = layers.Flatten()(x)\n",
        "      x = layers.Dense(64, activation=\"relu\")(x)\n",
        "      outputs = layers.Dense(10)(x)\n",
        "      model = keras.Model(inputs=inputs, outputs=outputs)\n",
        "      return model"
      ],
      "metadata": {
        "id": "mUkwMzqPZ5Kf"
      },
      "execution_count": null,
      "outputs": []
    },
    {
      "cell_type": "markdown",
      "source": [
        "## New model\n"
      ],
      "metadata": {
        "id": "Bmn_nE39J3aD"
      }
    },
    {
      "cell_type": "code",
      "source": [
        "def new_model():\n",
        "   with tf.device('/device:GPU:0'):\n",
        "      inputs = keras.Input(shape=(32,32,3))\n",
        "      x = layers.Conv2D(32,3)(inputs)\n",
        "      x = layers.BatchNormalization()(x)\n",
        "      x = keras.activations.relu(x)\n",
        "      x = layers.MaxPooling2D()(x)\n",
        "      x = layers.Dropout(0.2)(x)\n",
        "      \n",
        "      x = layers.Conv2D(64, 3, padding='same')(x)\n",
        "      x = layers.BatchNormalization()(x)\n",
        "      x = keras.activations.relu(x)\n",
        "      x = layers.Dropout(0.2)(x)\n",
        "\n",
        "      x = layers.Conv2D(128,3)(x)\n",
        "      x = layers.BatchNormalization()(x)\n",
        "      x = keras.activations.relu(x)\n",
        "      x = layers.Dropout(0.2)(x)\n",
        "      \n",
        "      x = layers.Flatten()(x)\n",
        "      x = layers.Dense(64, activation='relu')(x)\n",
        "      outputs = layers.Dense(10)(x)\n",
        "      model = keras.Model(inputs=inputs, outputs=outputs)\n",
        "      return model\n"
      ],
      "metadata": {
        "id": "gE1anQfjSV79"
      },
      "execution_count": null,
      "outputs": []
    },
    {
      "cell_type": "code",
      "source": [
        "# model = my_model()\n",
        "model = new_model()"
      ],
      "metadata": {
        "id": "fGPOAMl6KoJi"
      },
      "execution_count": null,
      "outputs": []
    },
    {
      "cell_type": "code",
      "source": [
        "print(model.summary())\n"
      ],
      "metadata": {
        "id": "sa_s0asmMMS9"
      },
      "execution_count": null,
      "outputs": []
    },
    {
      "cell_type": "markdown",
      "source": [
        "# Model compile"
      ],
      "metadata": {
        "id": "ma7S5FwtIlNK"
      }
    },
    {
      "cell_type": "code",
      "source": [
        "model.compile(\n",
        "    loss = keras.losses.SparseCategoricalCrossentropy(from_logits=True),\n",
        "    optimizer = keras.optimizers.Adam(lr=3e-4),\n",
        "    metrics=['accuracy'],\n",
        ")"
      ],
      "metadata": {
        "id": "fEN7xxAkHEL5"
      },
      "execution_count": null,
      "outputs": []
    },
    {
      "cell_type": "markdown",
      "source": [
        "# Train and evaluate"
      ],
      "metadata": {
        "id": "mHzEfDtrIpxi"
      }
    },
    {
      "cell_type": "code",
      "source": [
        "with tf.device('/device:GPU:0'):\n",
        "  history = model.fit(x_train, y_train, batch_size=64, epochs=30, verbose=2)\n",
        "  model.evaluate(x_test, y_test, batch_size=64, verbose=2)"
      ],
      "metadata": {
        "id": "GTbsDFaNKLpH"
      },
      "execution_count": null,
      "outputs": []
    },
    {
      "cell_type": "markdown",
      "source": [
        "# SUGGESTIONS\n"
      ],
      "metadata": {
        "id": "AKtNmJf3K_cc"
      }
    },
    {
      "cell_type": "markdown",
      "source": [
        "1. **What accuracy can you get on the test set by training longer, increasing the model size, changing kernel sizes, etc?**\n",
        "> Baseline : 0.7197  \n",
        "> Add MaxPooling each Conv2D : 0.6812  \n",
        "> More Conv2D layer : 0.7133  \n",
        "> Change kernel size : 0.6547  \n",
        "> Change kernel size +  more epochs : 0.6669  \n",
        "> Increase batch size + more epochs : 0.7007  \n",
        "> Increase batch size : 0.6738  \n",
        "> (Baseline) Apply drop out(0.2) + more epochs(30) : 0.7732\n",
        "\n",
        "2. **In the last video we train a FC on MNIST: what can you get by using a conv net instead?**\n",
        "> FC보다 파라미터의 수를 줄일 수 있음  \n",
        "> 이미지의 형상을 고려하여 학습할 수 있음  \n",
        "> 보다 적은 양의 학습 데이터로도 더 빠른 시간으로 학습이 가능"
      ],
      "metadata": {
        "id": "9aL-R70vLCZq"
      }
    },
    {
      "cell_type": "code",
      "source": [
        ""
      ],
      "metadata": {
        "id": "cSeCDapza6dF"
      },
      "execution_count": null,
      "outputs": []
    }
  ]
}