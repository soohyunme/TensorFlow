{
  "nbformat": 4,
  "nbformat_minor": 0,
  "metadata": {
    "colab": {
      "name": "03.CNN.ipynb",
      "provenance": [],
      "collapsed_sections": [
        "lVyhR0vbEpVR",
        "HdWMPOUeEuUp",
        "48Xn-xHFE6vw"
      ],
      "authorship_tag": "ABX9TyOk3kt861NFcm3yOe2C7LhF",
      "include_colab_link": true
    },
    "kernelspec": {
      "name": "python3",
      "display_name": "Python 3"
    },
    "language_info": {
      "name": "python"
    },
    "accelerator": "GPU"
  },
  "cells": [
    {
      "cell_type": "markdown",
      "metadata": {
        "id": "view-in-github",
        "colab_type": "text"
      },
      "source": [
        "<a href=\"https://colab.research.google.com/github/soohyunme/TensorFlow_Tutorial/blob/main/Code/03_CNN.ipynb\" target=\"_parent\"><img src=\"https://colab.research.google.com/assets/colab-badge.svg\" alt=\"Open In Colab\"/></a>"
      ]
    },
    {
      "cell_type": "code",
      "execution_count": 404,
      "metadata": {
        "id": "kbvMfen8HHU-"
      },
      "outputs": [],
      "source": [
        "import os\n",
        "from threading import active_count\n",
        "\n",
        "from tensorflow.python.keras.layers.core import Activation\n",
        "os.environ['TF_CPP_MIN_LOG_LEVEL'] = '2'\n",
        "import tensorflow as tf\n",
        "from tensorflow import keras\n",
        "from tensorflow.keras import layers\n",
        "from tensorflow.keras.datasets import cifar10\n"
      ]
    },
    {
      "cell_type": "markdown",
      "source": [
        "# Device setting"
      ],
      "metadata": {
        "id": "lVyhR0vbEpVR"
      }
    },
    {
      "cell_type": "code",
      "source": [
        "physical_devices = tf.config.list_physical_devices('GPU')\n",
        "tf.config.experimental.set_memory_growth(physical_devices[0],True)"
      ],
      "metadata": {
        "id": "IZFQhWJFEZUB"
      },
      "execution_count": 405,
      "outputs": []
    },
    {
      "cell_type": "markdown",
      "source": [
        "# Load data"
      ],
      "metadata": {
        "id": "HdWMPOUeEuUp"
      }
    },
    {
      "cell_type": "code",
      "source": [
        "(x_train,y_train), (x_test,y_test) = cifar10.load_data()"
      ],
      "metadata": {
        "id": "WPt3ivEaEdB0"
      },
      "execution_count": 406,
      "outputs": []
    },
    {
      "cell_type": "markdown",
      "source": [
        "# Normalize"
      ],
      "metadata": {
        "id": "48Xn-xHFE6vw"
      }
    },
    {
      "cell_type": "code",
      "source": [
        "x_train = x_train.astype('float32') / 255.0\n",
        "x_test = x_test.astype('float32') / 255.0"
      ],
      "metadata": {
        "id": "pv2SrixNE6LB"
      },
      "execution_count": 407,
      "outputs": []
    },
    {
      "cell_type": "markdown",
      "source": [
        "# Initialize model"
      ],
      "metadata": {
        "id": "1LeauvNMFHLB"
      }
    },
    {
      "cell_type": "code",
      "source": [
        "model = keras.Sequential(\n",
        "    [\n",
        "     keras.Input(shape=(32,32,3)),\n",
        "     layers.Conv2D(32, 3, padding='valid', activation='relu'),\n",
        "     layers.MaxPooling2D(pool_size=(2,2)),\n",
        "     layers.Conv2D(64, 3, activation='relu'),\n",
        "     layers.MaxPooling2D(pool_size=(2,2)),\n",
        "     layers.Conv2D(128, 3, activation='relu'),\n",
        "     layers.Flatten(),\n",
        "     layers.Dense(64,activation='relu'),\n",
        "     layers.Dense(10),\n",
        "\n",
        "    ]\n",
        ")"
      ],
      "metadata": {
        "id": "zWA9Xp4HFDw8"
      },
      "execution_count": 408,
      "outputs": []
    },
    {
      "cell_type": "code",
      "source": [
        "print(model.summary())"
      ],
      "metadata": {
        "colab": {
          "base_uri": "https://localhost:8080/"
        },
        "id": "dO9OQmwyGkV8",
        "outputId": "5c1b0051-3e26-4c21-8a23-a48f4da7dbe6"
      },
      "execution_count": 409,
      "outputs": [
        {
          "output_type": "stream",
          "name": "stdout",
          "text": [
            "Model: \"sequential_21\"\n",
            "_________________________________________________________________\n",
            "Layer (type)                 Output Shape              Param #   \n",
            "=================================================================\n",
            "conv2d_219 (Conv2D)          (None, 30, 30, 32)        896       \n",
            "_________________________________________________________________\n",
            "max_pooling2d_100 (MaxPoolin (None, 15, 15, 32)        0         \n",
            "_________________________________________________________________\n",
            "conv2d_220 (Conv2D)          (None, 13, 13, 64)        18496     \n",
            "_________________________________________________________________\n",
            "max_pooling2d_101 (MaxPoolin (None, 6, 6, 64)          0         \n",
            "_________________________________________________________________\n",
            "conv2d_221 (Conv2D)          (None, 4, 4, 128)         73856     \n",
            "_________________________________________________________________\n",
            "flatten_69 (Flatten)         (None, 2048)              0         \n",
            "_________________________________________________________________\n",
            "dense_141 (Dense)            (None, 64)                131136    \n",
            "_________________________________________________________________\n",
            "dense_142 (Dense)            (None, 10)                650       \n",
            "=================================================================\n",
            "Total params: 225,034\n",
            "Trainable params: 225,034\n",
            "Non-trainable params: 0\n",
            "_________________________________________________________________\n",
            "None\n"
          ]
        }
      ]
    },
    {
      "cell_type": "code",
      "source": [
        "def my_model():\n",
        "  with tf.device('/device:GPU:0'):\n",
        "      inputs = keras.Input(shape=(32, 32, 3))\n",
        "      x = layers.Conv2D(32, 3)(inputs)\n",
        "      x = layers.BatchNormalization()(x)\n",
        "      x = keras.activations.relu(x)\n",
        "      x = layers.MaxPooling2D()(x)\n",
        "      \n",
        "      x = layers.Conv2D(64, 3)(x)\n",
        "      x = layers.BatchNormalization()(x)\n",
        "      x = keras.activations.relu(x)\n",
        "      x = layers.MaxPooling2D()(x)\n",
        "      \n",
        "      x = layers.Conv2D(128, 3)(x)\n",
        "      x = layers.BatchNormalization()(x)\n",
        "      x = keras.activations.relu(x)\n",
        "      \n",
        "      x = layers.Flatten()(x)\n",
        "      x = layers.Dense(64, activation=\"relu\")(x)\n",
        "      outputs = layers.Dense(10)(x)\n",
        "      model = keras.Model(inputs=inputs, outputs=outputs)\n",
        "      return model"
      ],
      "metadata": {
        "id": "mUkwMzqPZ5Kf"
      },
      "execution_count": 410,
      "outputs": []
    },
    {
      "cell_type": "markdown",
      "source": [
        "## New model\n"
      ],
      "metadata": {
        "id": "Bmn_nE39J3aD"
      }
    },
    {
      "cell_type": "markdown",
      "source": [
        "https://davinci-ai.tistory.com/29\n",
        " \n",
        "VGGNet스타일의 14 Layers 네트워크 모델 참고"
      ],
      "metadata": {
        "id": "34TkIAVok3L6"
      }
    },
    {
      "cell_type": "code",
      "source": [
        "def new_model():\n",
        "   with tf.device('/device:GPU:0'):\n",
        "      inputs = keras.Input(shape=(32,32,3))\n",
        "      x = layers.Conv2D(32,3)(inputs)\n",
        "      x = layers.Conv2D(64, 3, padding='same',activation='relu')(x)\n",
        "      x = layers.BatchNormalization()(x)\n",
        "      x = layers.MaxPooling2D()(x)\n",
        "      \n",
        "      x = layers.Conv2D(128, 3, padding='same',activation='relu')(x)\n",
        "      x = layers.Conv2D(256, 3, padding='valid',activation='relu')(x)\n",
        "      x = layers.BatchNormalization()(x)\n",
        "\n",
        "      x = layers.Flatten()(x)\n",
        "      x = layers.Dense(128, activation='relu')(x)\n",
        "      x = layers.Dense(64, activation='relu')(x)\n",
        "      outputs = layers.Dense(10)(x)\n",
        "      model = keras.Model(inputs=inputs, outputs=outputs)\n",
        "      return model\n"
      ],
      "metadata": {
        "id": "gE1anQfjSV79"
      },
      "execution_count": 411,
      "outputs": []
    },
    {
      "cell_type": "code",
      "source": [
        "# model = my_model()\n",
        "model = new_model()"
      ],
      "metadata": {
        "id": "fGPOAMl6KoJi"
      },
      "execution_count": 412,
      "outputs": []
    },
    {
      "cell_type": "code",
      "source": [
        "print(model.summary())\n"
      ],
      "metadata": {
        "colab": {
          "base_uri": "https://localhost:8080/"
        },
        "id": "sa_s0asmMMS9",
        "outputId": "5ad1e37d-c86c-4258-c513-349d13a72444"
      },
      "execution_count": 413,
      "outputs": [
        {
          "output_type": "stream",
          "name": "stdout",
          "text": [
            "Model: \"model_47\"\n",
            "_________________________________________________________________\n",
            "Layer (type)                 Output Shape              Param #   \n",
            "=================================================================\n",
            "input_72 (InputLayer)        [(None, 32, 32, 3)]       0         \n",
            "_________________________________________________________________\n",
            "conv2d_222 (Conv2D)          (None, 30, 30, 32)        896       \n",
            "_________________________________________________________________\n",
            "conv2d_223 (Conv2D)          (None, 30, 30, 64)        18496     \n",
            "_________________________________________________________________\n",
            "batch_normalization_152 (Bat (None, 30, 30, 64)        256       \n",
            "_________________________________________________________________\n",
            "max_pooling2d_102 (MaxPoolin (None, 15, 15, 64)        0         \n",
            "_________________________________________________________________\n",
            "conv2d_224 (Conv2D)          (None, 15, 15, 128)       73856     \n",
            "_________________________________________________________________\n",
            "conv2d_225 (Conv2D)          (None, 13, 13, 256)       295168    \n",
            "_________________________________________________________________\n",
            "batch_normalization_153 (Bat (None, 13, 13, 256)       1024      \n",
            "_________________________________________________________________\n",
            "flatten_70 (Flatten)         (None, 43264)             0         \n",
            "_________________________________________________________________\n",
            "dense_143 (Dense)            (None, 128)               5537920   \n",
            "_________________________________________________________________\n",
            "dense_144 (Dense)            (None, 64)                8256      \n",
            "_________________________________________________________________\n",
            "dense_145 (Dense)            (None, 10)                650       \n",
            "=================================================================\n",
            "Total params: 5,936,522\n",
            "Trainable params: 5,935,882\n",
            "Non-trainable params: 640\n",
            "_________________________________________________________________\n",
            "None\n"
          ]
        }
      ]
    },
    {
      "cell_type": "markdown",
      "source": [
        "# Model compile"
      ],
      "metadata": {
        "id": "ma7S5FwtIlNK"
      }
    },
    {
      "cell_type": "code",
      "source": [
        "model.compile(\n",
        "    loss = keras.losses.SparseCategoricalCrossentropy(from_logits=True),\n",
        "    optimizer = keras.optimizers.Adam(lr=3e-4),\n",
        "    metrics=['accuracy'],\n",
        ")"
      ],
      "metadata": {
        "colab": {
          "base_uri": "https://localhost:8080/"
        },
        "id": "fEN7xxAkHEL5",
        "outputId": "7dc90f72-8bf4-4f41-9900-feb24f55737c"
      },
      "execution_count": 414,
      "outputs": [
        {
          "output_type": "stream",
          "name": "stderr",
          "text": [
            "/usr/local/lib/python3.7/dist-packages/keras/optimizer_v2/optimizer_v2.py:356: UserWarning: The `lr` argument is deprecated, use `learning_rate` instead.\n",
            "  \"The `lr` argument is deprecated, use `learning_rate` instead.\")\n"
          ]
        }
      ]
    },
    {
      "cell_type": "markdown",
      "source": [
        "# Train and evaluate"
      ],
      "metadata": {
        "id": "mHzEfDtrIpxi"
      }
    },
    {
      "cell_type": "code",
      "source": [
        "with tf.device('/device:GPU:0'):\n",
        "  history = model.fit(x_train, y_train, batch_size=32, epochs=10, verbose=2)\n",
        "  model.evaluate(x_test, y_test, batch_size=32, verbose=2)"
      ],
      "metadata": {
        "colab": {
          "base_uri": "https://localhost:8080/"
        },
        "id": "yOB5sYz-lGZ5",
        "outputId": "6bf17a9b-d211-45ce-fb10-a6e0515f9925"
      },
      "execution_count": 402,
      "outputs": [
        {
          "output_type": "stream",
          "name": "stdout",
          "text": [
            "Epoch 1/10\n",
            "1563/1563 - 11s - loss: 1.2351 - accuracy: 0.5710\n",
            "Epoch 2/10\n",
            "1563/1563 - 10s - loss: 0.7521 - accuracy: 0.7400\n",
            "Epoch 3/10\n",
            "1563/1563 - 10s - loss: 0.4772 - accuracy: 0.8349\n",
            "Epoch 4/10\n",
            "1563/1563 - 10s - loss: 0.2631 - accuracy: 0.9102\n",
            "Epoch 5/10\n",
            "1563/1563 - 10s - loss: 0.1473 - accuracy: 0.9497\n",
            "Epoch 6/10\n",
            "1563/1563 - 10s - loss: 0.1095 - accuracy: 0.9643\n",
            "Epoch 7/10\n",
            "1563/1563 - 10s - loss: 0.0847 - accuracy: 0.9713\n",
            "Epoch 8/10\n",
            "1563/1563 - 10s - loss: 0.0768 - accuracy: 0.9744\n",
            "Epoch 9/10\n",
            "1563/1563 - 10s - loss: 0.0618 - accuracy: 0.9797\n",
            "Epoch 10/10\n",
            "1563/1563 - 10s - loss: 0.0616 - accuracy: 0.9799\n",
            "313/313 - 1s - loss: 1.4739 - accuracy: 0.7407\n"
          ]
        }
      ]
    },
    {
      "cell_type": "markdown",
      "source": [
        "# SUGGESTIONS\n"
      ],
      "metadata": {
        "id": "AKtNmJf3K_cc"
      }
    },
    {
      "cell_type": "markdown",
      "source": [
        "1. **What accuracy can you get on the test set by training longer, increasing the model size, changing kernel sizes, etc?**\n",
        "> Baseline : 0.7197  \n",
        "> Add MaxPooling each Conv2D : 0.6812  \n",
        "> More Conv2D layer : 0.7133  \n",
        "> Change kernel size : 0.6547  \n",
        "> Change kernel size +  more epochs : 0.6669  \n",
        "> Increase batch size + more epochs : 0.7007  \n",
        "> Increase batch size : 0.6738  \n",
        "> Change model architecture + reduce batch size : 0.7407\n",
        "\n",
        "2. **In the last video we train a FC on MNIST: what can you get by using a conv net instead?**\n",
        "> FC보다 파라미터의 수를 줄일 수 있음  \n",
        "> 이미지의 형상을 고려하여 학습할 수 있음  \n",
        "> 보다 적은 양의 학습 데이터로도 더 빠른 시간으로 학습이 가능"
      ],
      "metadata": {
        "id": "9aL-R70vLCZq"
      }
    }
  ]
}