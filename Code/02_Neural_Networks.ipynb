{
  "nbformat": 4,
  "nbformat_minor": 0,
  "metadata": {
    "colab": {
      "name": "02.Neural_Networks.ipynb",
      "provenance": [],
      "collapsed_sections": [],
      "include_colab_link": true
    },
    "kernelspec": {
      "name": "python3",
      "display_name": "Python 3"
    },
    "language_info": {
      "name": "python"
    },
    "accelerator": "GPU"
  },
  "cells": [
    {
      "cell_type": "markdown",
      "metadata": {
        "id": "view-in-github",
        "colab_type": "text"
      },
      "source": [
        "<a href=\"https://colab.research.google.com/github/soohyunme/TensorFlow_Tutorial/blob/main/Code/02_Neural_Networks.ipynb\" target=\"_parent\"><img src=\"https://colab.research.google.com/assets/colab-badge.svg\" alt=\"Open In Colab\"/></a>"
      ]
    },
    {
      "cell_type": "code",
      "execution_count": 34,
      "metadata": {
        "id": "81haJuwTxFP6"
      },
      "outputs": [],
      "source": [
        "import os\n",
        "from threading import active_count\n",
        "\n",
        "from tensorflow.python.keras.layers.core import Activation\n",
        "os.environ['TF_CPP_MIN_LOG_LEVEL'] = '2'\n",
        "import tensorflow as tf\n",
        "from tensorflow import keras\n",
        "from tensorflow.keras import layers\n",
        "from tensorflow.keras.datasets import mnist\n"
      ]
    },
    {
      "cell_type": "markdown",
      "source": [
        "# Load Data"
      ],
      "metadata": {
        "id": "HjPB-P01BpZI"
      }
    },
    {
      "cell_type": "code",
      "source": [
        "(x_train, y_train), (x_test, y_test) = mnist.load_data()\n",
        "\n"
      ],
      "metadata": {
        "id": "CjZT8QlpHs3m"
      },
      "execution_count": 35,
      "outputs": []
    },
    {
      "cell_type": "markdown",
      "source": [
        "# Reshape / Normalize"
      ],
      "metadata": {
        "id": "eN8pWVkXBtDw"
      }
    },
    {
      "cell_type": "code",
      "source": [
        "# # Reshape x\n",
        "# x_train = x_train.reshape(-1,28*28).astype(\"float32\") / 255.0\n",
        "# x_test = x_test.reshape(-1,28*28).astype(\"float32\") / 255.0\n",
        "\n",
        "# Non normalize\n",
        "x_train = x_train.reshape(-1,28*28).astype(\"float32\") \n",
        "x_test = x_test.reshape(-1,28*28).astype(\"float32\") \n"
      ],
      "metadata": {
        "id": "X83nKxo7HwJs"
      },
      "execution_count": 36,
      "outputs": []
    },
    {
      "cell_type": "markdown",
      "source": [
        "# Sequential API (Very convenient, not very flexible)"
      ],
      "metadata": {
        "id": "bixZt17MBgeZ"
      }
    },
    {
      "cell_type": "code",
      "source": [
        "# model = keras.Sequential(\n",
        "#     [\n",
        "#         keras.Input(shape=(28*28)),\n",
        "#         layers.Dense(512, activation='relu'),\n",
        "#         layers.Dense(256, activation='relu'),\n",
        "#         layers.Dense(10), # loss(from_logits=True)\n",
        "#     ]\n",
        "# )\n"
      ],
      "metadata": {
        "id": "eRtiuZUYHyDu"
      },
      "execution_count": 37,
      "outputs": []
    },
    {
      "cell_type": "code",
      "source": [
        "# model = keras.Sequential()\n",
        "# model.add(keras.Input(shape=(784)))\n",
        "# model.add(layers.Dense(512, activation='relu'))\n",
        "# model.add(layers.Dense(256, activation='relu', name='my_layer'))\n",
        "# model.add(layers.Dense(10)) # loss(from_logits=True) \n"
      ],
      "metadata": {
        "id": "KUkIYwdEH0VF"
      },
      "execution_count": 38,
      "outputs": []
    },
    {
      "cell_type": "code",
      "source": [
        "# model = keras.Model(inputs=model.inputs, \n",
        "#                     outputs=[layer.output for layer in model.layers]) \n",
        "#                     # outputs=[model.get_layer('my_layer').output])\n",
        "#                     # outputs=[model.layers[-2].output])\n"
      ],
      "metadata": {
        "id": "Q8dAF4e_H1fr"
      },
      "execution_count": 39,
      "outputs": []
    },
    {
      "cell_type": "markdown",
      "source": [
        "# Functional API (A bit more flexible)\n"
      ],
      "metadata": {
        "id": "OKRKbfkVBjLo"
      }
    },
    {
      "cell_type": "code",
      "source": [
        "inputs = keras.Input(shape=(784))\n",
        "x = layers.Dense(512, activation='relu', name='first_layer')(inputs)\n",
        "x = layers.Dense(256, activation='relu', name='second_layer')(x)\n",
        "x = layers.Dense(128, activation='relu', name='third_layer')(x)\n",
        "outputs = layers.Dense(10, activation='softmax')(x) # loss(from_logits=False)\n",
        "model = keras.Model(inputs=inputs, outputs=outputs)\n"
      ],
      "metadata": {
        "id": "qR-Iqz6bH2ct"
      },
      "execution_count": 40,
      "outputs": []
    },
    {
      "cell_type": "code",
      "source": [
        "model.compile(\n",
        "    loss=keras.losses.SparseCategoricalCrossentropy(from_logits=False),\n",
        "    optimizer=keras.optimizers.Adam(lr=0.001),\n",
        "    # optimizer = keras.optimizers.SGD(lr=0.001), # Try SGD\n",
        "    # optimizer = keras.optimizers.Adagrad(lr=0.001), # Try Adagrad\n",
        "    # optimizer = keras.optimizers.RMSprop(lr=0.001), # Try RMSprop\n",
        "    metrics=[\"accuracy\"],\n",
        ")\n"
      ],
      "metadata": {
        "colab": {
          "base_uri": "https://localhost:8080/"
        },
        "id": "paTSf_oVH3rg",
        "outputId": "74ab9423-d152-427c-d96c-c9a20c73823b"
      },
      "execution_count": 41,
      "outputs": [
        {
          "output_type": "stream",
          "name": "stderr",
          "text": [
            "/usr/local/lib/python3.7/dist-packages/keras/optimizer_v2/optimizer_v2.py:356: UserWarning: The `lr` argument is deprecated, use `learning_rate` instead.\n",
            "  \"The `lr` argument is deprecated, use `learning_rate` instead.\")\n"
          ]
        }
      ]
    },
    {
      "cell_type": "code",
      "source": [
        "with tf.device('/device:GPU:0'):\n",
        "  model.fit(x_train, y_train, batch_size=64, epochs=15, verbose=2)\n",
        "  model.evaluate(x_test, y_test, batch_size=64, verbose=2)\n"
      ],
      "metadata": {
        "colab": {
          "base_uri": "https://localhost:8080/"
        },
        "id": "S5JNKayiH5DZ",
        "outputId": "bdc2304b-54e7-49ef-e561-238b042e7d5c"
      },
      "execution_count": 42,
      "outputs": [
        {
          "output_type": "stream",
          "name": "stdout",
          "text": [
            "Epoch 1/15\n",
            "938/938 - 2s - loss: 0.8509 - accuracy: 0.9037\n",
            "Epoch 2/15\n",
            "938/938 - 1s - loss: 0.1675 - accuracy: 0.9543\n",
            "Epoch 3/15\n",
            "938/938 - 1s - loss: 0.1315 - accuracy: 0.9623\n",
            "Epoch 4/15\n",
            "938/938 - 1s - loss: 0.1083 - accuracy: 0.9686\n",
            "Epoch 5/15\n",
            "938/938 - 1s - loss: 0.0954 - accuracy: 0.9728\n",
            "Epoch 6/15\n",
            "938/938 - 1s - loss: 0.0860 - accuracy: 0.9758\n",
            "Epoch 7/15\n",
            "938/938 - 1s - loss: 0.0832 - accuracy: 0.9772\n",
            "Epoch 8/15\n",
            "938/938 - 1s - loss: 0.0726 - accuracy: 0.9796\n",
            "Epoch 9/15\n",
            "938/938 - 1s - loss: 0.0661 - accuracy: 0.9804\n",
            "Epoch 10/15\n",
            "938/938 - 1s - loss: 0.0581 - accuracy: 0.9835\n",
            "Epoch 11/15\n",
            "938/938 - 1s - loss: 0.0543 - accuracy: 0.9847\n",
            "Epoch 12/15\n",
            "938/938 - 1s - loss: 0.0489 - accuracy: 0.9872\n",
            "Epoch 13/15\n",
            "938/938 - 1s - loss: 0.0450 - accuracy: 0.9873\n",
            "Epoch 14/15\n",
            "938/938 - 1s - loss: 0.0415 - accuracy: 0.9887\n",
            "Epoch 15/15\n",
            "938/938 - 1s - loss: 0.0414 - accuracy: 0.9890\n",
            "157/157 - 0s - loss: 0.1223 - accuracy: 0.9746\n"
          ]
        }
      ]
    },
    {
      "cell_type": "markdown",
      "source": [
        "## **SUGGESTIONS:**\n"
      ],
      "metadata": {
        "id": "UADVkrHaKP5f"
      }
    },
    {
      "cell_type": "markdown",
      "source": [
        "1. **Try and see what accuracy you can get by increasing the model, training for longer, etcetera.  \n",
        "You should be able to get over 98.2% on the test set!**\n",
        "> Baseline = 0.9779  \n",
        "> Add layer(1 layer) and more epochs(5->10) 0.9813  \n",
        "> Bigger batch size 32 -> 64 and more epochs(10->15) 0.9828\n",
        "\n",
        "2. **Try using different optimizers than Adam, \n",
        "for example Gradient Descent with Momentum, Adagrad, and RMSprop**\n",
        "> Use SGD in second model -> 0.9225  \n",
        "> Use Adagrad in second model -> 0.9401  \n",
        "> Use RMSprop in second model -> 0.9799\n",
        "\n",
        "3. **Is there any difference if you remove the normalization of the data?**\n",
        "> normalize -> 0.9828  \n",
        "> Non normalize -> 0.9809"
      ],
      "metadata": {
        "id": "zq_w80JILLxb"
      }
    }
  ]
}