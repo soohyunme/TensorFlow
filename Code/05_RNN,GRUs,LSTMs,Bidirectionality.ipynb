{
  "nbformat": 4,
  "nbformat_minor": 0,
  "metadata": {
    "colab": {
      "name": "05.RNN,GRUs,LSTMs,Bidirectionality.ipynb",
      "provenance": [],
      "collapsed_sections": [],
      "authorship_tag": "ABX9TyPojGE+rRX6Pbs4Ao16LLGA",
      "include_colab_link": true
    },
    "kernelspec": {
      "name": "python3",
      "display_name": "Python 3"
    },
    "language_info": {
      "name": "python"
    },
    "accelerator": "GPU"
  },
  "cells": [
    {
      "cell_type": "markdown",
      "metadata": {
        "id": "view-in-github",
        "colab_type": "text"
      },
      "source": [
        "<a href=\"https://colab.research.google.com/github/soohyunme/TensorFlow_Tutorial/blob/main/Code/05_RNN%2CGRUs%2CLSTMs%2CBidirectionality.ipynb\" target=\"_parent\"><img src=\"https://colab.research.google.com/assets/colab-badge.svg\" alt=\"Open In Colab\"/></a>"
      ]
    },
    {
      "cell_type": "code",
      "execution_count": 1,
      "metadata": {
        "id": "nSOKXYpjW6q0"
      },
      "outputs": [],
      "source": [
        "import os\n",
        "from threading import active_count\n",
        "\n",
        "from tensorflow.python.keras.layers.core import Activation\n",
        "os.environ['TF_CPP_MIN_LOG_LEVEL'] = '2'\n",
        "import tensorflow as tf\n",
        "from tensorflow import keras\n",
        "from tensorflow.keras import layers\n",
        "from tensorflow.keras.datasets import mnist\n"
      ]
    },
    {
      "cell_type": "markdown",
      "source": [
        "# Device setting"
      ],
      "metadata": {
        "id": "lVyhR0vbEpVR"
      }
    },
    {
      "cell_type": "code",
      "source": [
        "physical_devices = tf.config.list_physical_devices('GPU')\n",
        "tf.config.experimental.set_memory_growth(physical_devices[0],True)"
      ],
      "metadata": {
        "id": "IZFQhWJFEZUB"
      },
      "execution_count": 2,
      "outputs": []
    },
    {
      "cell_type": "markdown",
      "source": [
        "# Load data"
      ],
      "metadata": {
        "id": "HdWMPOUeEuUp"
      }
    },
    {
      "cell_type": "code",
      "source": [
        "(x_train,y_train), (x_test,y_test) = mnist.load_data()"
      ],
      "metadata": {
        "id": "WPt3ivEaEdB0",
        "colab": {
          "base_uri": "https://localhost:8080/"
        },
        "outputId": "e40226dc-552e-4f09-de37-738cbd6f5ca7"
      },
      "execution_count": 3,
      "outputs": [
        {
          "output_type": "stream",
          "name": "stdout",
          "text": [
            "Downloading data from https://storage.googleapis.com/tensorflow/tf-keras-datasets/mnist.npz\n",
            "11493376/11490434 [==============================] - 0s 0us/step\n",
            "11501568/11490434 [==============================] - 0s 0us/step\n"
          ]
        }
      ]
    },
    {
      "cell_type": "markdown",
      "source": [
        "# Normalize"
      ],
      "metadata": {
        "id": "48Xn-xHFE6vw"
      }
    },
    {
      "cell_type": "code",
      "source": [
        "x_train = x_train.astype('float32') / 255.0\n",
        "x_test = x_test.astype('float32') / 255.0"
      ],
      "metadata": {
        "id": "hLEeGCNlXKRv"
      },
      "execution_count": 4,
      "outputs": []
    },
    {
      "cell_type": "markdown",
      "source": [
        "# Model"
      ],
      "metadata": {
        "id": "3eSaDFbDYvDR"
      }
    },
    {
      "cell_type": "markdown",
      "source": [
        "## SimpleRNN"
      ],
      "metadata": {
        "id": "TBPIbNPTdXAx"
      }
    },
    {
      "cell_type": "code",
      "source": [
        "model = keras.Sequential()\n",
        "model.add(keras.Input(shape=(None, 28)))\n",
        "model.add(\n",
        "    layers.SimpleRNN(512, return_sequences=True, activation='relu')\n",
        ")\n",
        "model.add(layers.SimpleRNN(512, activation='relu'))\n",
        "model.add(layers.Dense(10))\n",
        "\n",
        "print(model.summary())"
      ],
      "metadata": {
        "id": "2-9Ux_7GXtbg",
        "colab": {
          "base_uri": "https://localhost:8080/"
        },
        "outputId": "19dace79-cfdf-468e-db41-14cda5ec2011"
      },
      "execution_count": 5,
      "outputs": [
        {
          "output_type": "stream",
          "name": "stdout",
          "text": [
            "Model: \"sequential\"\n",
            "_________________________________________________________________\n",
            " Layer (type)                Output Shape              Param #   \n",
            "=================================================================\n",
            " simple_rnn (SimpleRNN)      (None, None, 512)         276992    \n",
            "                                                                 \n",
            " simple_rnn_1 (SimpleRNN)    (None, 512)               524800    \n",
            "                                                                 \n",
            " dense (Dense)               (None, 10)                5130      \n",
            "                                                                 \n",
            "=================================================================\n",
            "Total params: 806,922\n",
            "Trainable params: 806,922\n",
            "Non-trainable params: 0\n",
            "_________________________________________________________________\n",
            "None\n"
          ]
        }
      ]
    },
    {
      "cell_type": "markdown",
      "source": [
        "## GRU"
      ],
      "metadata": {
        "id": "a6LbRgpwdZVR"
      }
    },
    {
      "cell_type": "code",
      "source": [
        "model = keras.Sequential()\n",
        "model.add(keras.Input(shape=(None, 28)))\n",
        "model.add(\n",
        "    layers.GRU(256, return_sequences=True, activation='tanh')\n",
        ")\n",
        "model.add(layers.GRU(256, activation='tanh'))\n",
        "model.add(layers.Dense(10))\n",
        "\n",
        "print(model.summary())"
      ],
      "metadata": {
        "id": "o1Cx0mnsbPTx",
        "colab": {
          "base_uri": "https://localhost:8080/"
        },
        "outputId": "422c210f-7f3f-4790-81fd-886abe084e83"
      },
      "execution_count": 6,
      "outputs": [
        {
          "output_type": "stream",
          "name": "stdout",
          "text": [
            "Model: \"sequential_1\"\n",
            "_________________________________________________________________\n",
            " Layer (type)                Output Shape              Param #   \n",
            "=================================================================\n",
            " gru (GRU)                   (None, None, 256)         219648    \n",
            "                                                                 \n",
            " gru_1 (GRU)                 (None, 256)               394752    \n",
            "                                                                 \n",
            " dense_1 (Dense)             (None, 10)                2570      \n",
            "                                                                 \n",
            "=================================================================\n",
            "Total params: 616,970\n",
            "Trainable params: 616,970\n",
            "Non-trainable params: 0\n",
            "_________________________________________________________________\n",
            "None\n"
          ]
        }
      ]
    },
    {
      "cell_type": "markdown",
      "source": [
        "## LSTM"
      ],
      "metadata": {
        "id": "W0W5rIAAdqOi"
      }
    },
    {
      "cell_type": "code",
      "source": [
        "model = keras.Sequential()\n",
        "model.add(keras.Input(shape=(None, 28)))\n",
        "model.add(\n",
        "    layers.LSTM(256, return_sequences=True, activation='tanh')\n",
        ")\n",
        "model.add(layers.LSTM(256, activation='tanh'))\n",
        "model.add(layers.Dense(10))\n",
        "\n",
        "print(model.summary())"
      ],
      "metadata": {
        "id": "IUxPQCTCd1QA",
        "colab": {
          "base_uri": "https://localhost:8080/"
        },
        "outputId": "a2dd061d-6cb4-42eb-8b48-1ec916c4e732"
      },
      "execution_count": 7,
      "outputs": [
        {
          "output_type": "stream",
          "name": "stdout",
          "text": [
            "Model: \"sequential_2\"\n",
            "_________________________________________________________________\n",
            " Layer (type)                Output Shape              Param #   \n",
            "=================================================================\n",
            " lstm (LSTM)                 (None, None, 256)         291840    \n",
            "                                                                 \n",
            " lstm_1 (LSTM)               (None, 256)               525312    \n",
            "                                                                 \n",
            " dense_2 (Dense)             (None, 10)                2570      \n",
            "                                                                 \n",
            "=================================================================\n",
            "Total params: 819,722\n",
            "Trainable params: 819,722\n",
            "Non-trainable params: 0\n",
            "_________________________________________________________________\n",
            "None\n"
          ]
        }
      ]
    },
    {
      "cell_type": "markdown",
      "source": [
        "## Bidireactional LSTM"
      ],
      "metadata": {
        "id": "mHMwpxYNd7Lx"
      }
    },
    {
      "cell_type": "code",
      "source": [
        "model = keras.Sequential()\n",
        "model.add(keras.Input(shape=(None, 28)))\n",
        "model.add(\n",
        "    layers.Bidirectional(\n",
        "        layers.LSTM(256, return_sequences=True, activation='tanh')\n",
        "    )\n",
        ")\n",
        "model.add(\n",
        "    layers.Bidirectional(\n",
        "        layers.LSTM(256, activation='tanh')\n",
        "        )\n",
        ")\n",
        "model.add(layers.Dense(10))\n",
        "\n",
        "print(model.summary())"
      ],
      "metadata": {
        "id": "DslDt7G-eBGQ",
        "colab": {
          "base_uri": "https://localhost:8080/"
        },
        "outputId": "77fea9e0-054b-4add-c8ba-ad966c6938e9"
      },
      "execution_count": 8,
      "outputs": [
        {
          "output_type": "stream",
          "name": "stdout",
          "text": [
            "Model: \"sequential_3\"\n",
            "_________________________________________________________________\n",
            " Layer (type)                Output Shape              Param #   \n",
            "=================================================================\n",
            " bidirectional (Bidirectiona  (None, None, 512)        583680    \n",
            " l)                                                              \n",
            "                                                                 \n",
            " bidirectional_1 (Bidirectio  (None, 512)              1574912   \n",
            " nal)                                                            \n",
            "                                                                 \n",
            " dense_3 (Dense)             (None, 10)                5130      \n",
            "                                                                 \n",
            "=================================================================\n",
            "Total params: 2,163,722\n",
            "Trainable params: 2,163,722\n",
            "Non-trainable params: 0\n",
            "_________________________________________________________________\n",
            "None\n"
          ]
        }
      ]
    },
    {
      "cell_type": "code",
      "source": [
        "model.compile(\n",
        "    loss=keras.losses.SparseCategoricalCrossentropy(from_logits=True),\n",
        "    optimizer=keras.optimizers.Adam(lr=0.001),\n",
        "    metrics=['accuracy']\n",
        ")"
      ],
      "metadata": {
        "id": "e8R7_9R5aUfa",
        "colab": {
          "base_uri": "https://localhost:8080/"
        },
        "outputId": "8479470d-1147-46c4-edf0-04349302c6c2"
      },
      "execution_count": 9,
      "outputs": [
        {
          "output_type": "stream",
          "name": "stderr",
          "text": [
            "/usr/local/lib/python3.7/dist-packages/keras/optimizer_v2/adam.py:105: UserWarning: The `lr` argument is deprecated, use `learning_rate` instead.\n",
            "  super(Adam, self).__init__(name, **kwargs)\n"
          ]
        }
      ]
    },
    {
      "cell_type": "code",
      "source": [
        "model.fit(x_train, y_train, batch_size=64, epochs=10, verbose=2)\n",
        "model.evaluate(x_test, y_test, batch_size=64, verbose=2)"
      ],
      "metadata": {
        "id": "-fw3rKdOassC",
        "colab": {
          "base_uri": "https://localhost:8080/"
        },
        "outputId": "c2908d34-85f0-45e0-8c61-bc257f6ead20"
      },
      "execution_count": 10,
      "outputs": [
        {
          "output_type": "stream",
          "name": "stdout",
          "text": [
            "Epoch 1/10\n",
            "938/938 - 50s - loss: 0.2711 - accuracy: 0.9112 - 50s/epoch - 53ms/step\n",
            "Epoch 2/10\n",
            "938/938 - 39s - loss: 0.0776 - accuracy: 0.9757 - 39s/epoch - 41ms/step\n",
            "Epoch 3/10\n",
            "938/938 - 39s - loss: 0.0539 - accuracy: 0.9830 - 39s/epoch - 41ms/step\n",
            "Epoch 4/10\n",
            "938/938 - 39s - loss: 0.0414 - accuracy: 0.9873 - 39s/epoch - 41ms/step\n",
            "Epoch 5/10\n",
            "938/938 - 39s - loss: 0.0347 - accuracy: 0.9890 - 39s/epoch - 41ms/step\n",
            "Epoch 6/10\n",
            "938/938 - 38s - loss: 0.0294 - accuracy: 0.9909 - 38s/epoch - 41ms/step\n",
            "Epoch 7/10\n",
            "938/938 - 38s - loss: 0.0251 - accuracy: 0.9924 - 38s/epoch - 41ms/step\n",
            "Epoch 8/10\n",
            "938/938 - 39s - loss: 0.0209 - accuracy: 0.9932 - 39s/epoch - 41ms/step\n",
            "Epoch 9/10\n",
            "938/938 - 39s - loss: 0.0186 - accuracy: 0.9939 - 39s/epoch - 41ms/step\n",
            "Epoch 10/10\n",
            "938/938 - 38s - loss: 0.0166 - accuracy: 0.9945 - 38s/epoch - 41ms/step\n",
            "157/157 - 4s - loss: 0.0349 - accuracy: 0.9892 - 4s/epoch - 27ms/step\n"
          ]
        },
        {
          "output_type": "execute_result",
          "data": {
            "text/plain": [
              "[0.034949783235788345, 0.9891999959945679]"
            ]
          },
          "metadata": {},
          "execution_count": 10
        }
      ]
    }
  ]
}