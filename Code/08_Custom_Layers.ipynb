{
  "nbformat": 4,
  "nbformat_minor": 0,
  "metadata": {
    "colab": {
      "name": "08.Custom_Layers.ipynb",
      "private_outputs": true,
      "provenance": [],
      "collapsed_sections": [],
      "authorship_tag": "ABX9TyM25ti6lLFdz3TdZTdW18Db",
      "include_colab_link": true
    },
    "kernelspec": {
      "name": "python3",
      "display_name": "Python 3"
    },
    "language_info": {
      "name": "python"
    },
    "accelerator": "GPU"
  },
  "cells": [
    {
      "cell_type": "markdown",
      "metadata": {
        "id": "view-in-github",
        "colab_type": "text"
      },
      "source": [
        "<a href=\"https://colab.research.google.com/github/soohyunme/TensorFlow_Tutorial/blob/main/Code/08_Custom_Layers.ipynb\" target=\"_parent\"><img src=\"https://colab.research.google.com/assets/colab-badge.svg\" alt=\"Open In Colab\"/></a>"
      ]
    },
    {
      "cell_type": "code",
      "execution_count": null,
      "metadata": {
        "id": "ceIx3RIefF2y"
      },
      "outputs": [],
      "source": [
        "import os\n",
        "\n",
        "os.environ['TF_CPP_MIN_LOG_LEVEL'] = '2'\n",
        "import tensorflow as tf\n",
        "from tensorflow import keras\n",
        "from tensorflow.keras import layers\n",
        "from tensorflow.keras.datasets import mnist"
      ]
    },
    {
      "cell_type": "markdown",
      "source": [
        "# Device setting"
      ],
      "metadata": {
        "id": "lVyhR0vbEpVR"
      }
    },
    {
      "cell_type": "code",
      "source": [
        "physical_devices = tf.config.list_physical_devices('GPU')\n",
        "tf.config.experimental.set_memory_growth(physical_devices[0],True)"
      ],
      "metadata": {
        "id": "IZFQhWJFEZUB"
      },
      "execution_count": null,
      "outputs": []
    },
    {
      "cell_type": "markdown",
      "source": [
        "# Load data"
      ],
      "metadata": {
        "id": "HdWMPOUeEuUp"
      }
    },
    {
      "cell_type": "code",
      "source": [
        "(x_train,y_train), (x_test,y_test) = mnist.load_data()"
      ],
      "metadata": {
        "id": "WPt3ivEaEdB0"
      },
      "execution_count": null,
      "outputs": []
    },
    {
      "cell_type": "markdown",
      "source": [
        "# Normalize"
      ],
      "metadata": {
        "id": "48Xn-xHFE6vw"
      }
    },
    {
      "cell_type": "code",
      "source": [
        "x_train = x_train.reshape(-1, 28 * 28).astype('float32') / 255.0\n",
        "x_test = x_test.reshape(-1, 28 * 28).astype('float32') / 255.0"
      ],
      "metadata": {
        "id": "hLEeGCNlXKRv"
      },
      "execution_count": null,
      "outputs": []
    },
    {
      "cell_type": "markdown",
      "source": [
        "#Model"
      ],
      "metadata": {
        "id": "NhkrLuxLoJsx"
      }
    },
    {
      "cell_type": "code",
      "source": [
        "class Dense(layers.Layer):\n",
        "  def __init__(self, units):\n",
        "    super(Dense, self).__init__()\n",
        "    self.units = units\n",
        "\n",
        "  def build(self, input_shape):\n",
        "    self.w = self.add_weight(\n",
        "        name = 'w',\n",
        "        shape = (input_shape[-1], self.units),\n",
        "        initializer = 'random_normal',\n",
        "        trainable = True,\n",
        "    )\n",
        "\n",
        "    self.b = self.add_weight(\n",
        "        name = 'b',\n",
        "        shape = (self.units,),\n",
        "        initializer = 'zeros',\n",
        "        trainable = True,\n",
        "    )\n",
        "\n",
        "  def call(self, inputs):\n",
        "    return tf.matmul(inputs, self.w) + self.b"
      ],
      "metadata": {
        "id": "2pRF_lGk7ppE"
      },
      "execution_count": null,
      "outputs": []
    },
    {
      "cell_type": "code",
      "source": [
        "class MyReLU(layers.Layer):\n",
        "  def __init__(self):\n",
        "    super(MyReLU, self).__init__()\n",
        "\n",
        "  def call(self, x):\n",
        "    return tf.math.maximum(x, 0)\n",
        "    "
      ],
      "metadata": {
        "id": "zvWSdRs09wtz"
      },
      "execution_count": null,
      "outputs": []
    },
    {
      "cell_type": "code",
      "source": [
        "class MyModel(keras.Model):\n",
        "  def __init__(self, num_classes=10):\n",
        "    super(MyModel, self).__init__()\n",
        "    self.dense1 = Dense(64)\n",
        "    self.dense2 = Dense(num_classes)\n",
        "    self.relu = MyReLU()\n",
        "\n",
        "    # self.dense1 = layers.Dense(64)\n",
        "    # self.dense2 = layers.Dense(num_classes)\n",
        "\n",
        "  def call(self, input_tensor):\n",
        "    x = self.relu(self.dense1(input_tensor))\n",
        "    \n",
        "    # x = tf.nn.relu(self.dense1(input_tensor))\n",
        "    \n",
        "    return self.dense2(x)\n"
      ],
      "metadata": {
        "id": "DcZfrk6tjCXc"
      },
      "execution_count": null,
      "outputs": []
    },
    {
      "cell_type": "code",
      "source": [
        "model = MyModel()\n",
        "model.compile(\n",
        "    loss = keras.losses.SparseCategoricalCrossentropy(from_logits=True),\n",
        "    optimizer = keras.optimizers.Adam(),\n",
        "    metrics = ['accuracy'],\n",
        ")\n",
        "model.fit(x_train, y_train, batch_size=32, epochs=2, verbose=2)\n",
        "model.evaluate(x_test, y_test, batch_size=32, verbose=2)\n"
      ],
      "metadata": {
        "id": "Eim55uRsjfB0"
      },
      "execution_count": null,
      "outputs": []
    }
  ]
}