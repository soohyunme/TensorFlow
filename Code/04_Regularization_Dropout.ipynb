{
  "nbformat": 4,
  "nbformat_minor": 0,
  "metadata": {
    "colab": {
      "name": "04.Regularization_Dropout.ipynb",
      "provenance": [],
      "collapsed_sections": [],
      "authorship_tag": "ABX9TyPEe6cyVzcskb6qWQS0EjO2",
      "include_colab_link": true
    },
    "kernelspec": {
      "name": "python3",
      "display_name": "Python 3"
    },
    "language_info": {
      "name": "python"
    },
    "accelerator": "GPU"
  },
  "cells": [
    {
      "cell_type": "markdown",
      "metadata": {
        "id": "view-in-github",
        "colab_type": "text"
      },
      "source": [
        "<a href=\"https://colab.research.google.com/github/soohyunme/TensorFlow_Tutorial/blob/main/Code/04_Regularization_Dropout.ipynb\" target=\"_parent\"><img src=\"https://colab.research.google.com/assets/colab-badge.svg\" alt=\"Open In Colab\"/></a>"
      ]
    },
    {
      "cell_type": "code",
      "execution_count": 1,
      "metadata": {
        "id": "kbvMfen8HHU-"
      },
      "outputs": [],
      "source": [
        "import os\n",
        "from threading import active_count\n",
        "\n",
        "from tensorflow.python.keras.layers.core import Activation\n",
        "os.environ['TF_CPP_MIN_LOG_LEVEL'] = '2'\n",
        "import tensorflow as tf\n",
        "from tensorflow import keras\n",
        "from tensorflow.keras import layers, regularizers\n",
        "from tensorflow.keras.datasets import cifar10\n"
      ]
    },
    {
      "cell_type": "markdown",
      "source": [
        "# Device setting"
      ],
      "metadata": {
        "id": "lVyhR0vbEpVR"
      }
    },
    {
      "cell_type": "code",
      "source": [
        "physical_devices = tf.config.list_physical_devices('GPU')\n",
        "tf.config.experimental.set_memory_growth(physical_devices[0],True)"
      ],
      "metadata": {
        "id": "IZFQhWJFEZUB"
      },
      "execution_count": 2,
      "outputs": []
    },
    {
      "cell_type": "markdown",
      "source": [
        "# Load data"
      ],
      "metadata": {
        "id": "HdWMPOUeEuUp"
      }
    },
    {
      "cell_type": "code",
      "source": [
        "(x_train,y_train), (x_test,y_test) = cifar10.load_data()"
      ],
      "metadata": {
        "id": "WPt3ivEaEdB0",
        "colab": {
          "base_uri": "https://localhost:8080/"
        },
        "outputId": "4e8b0e7e-091e-49e6-b197-88051feaadea"
      },
      "execution_count": 3,
      "outputs": [
        {
          "output_type": "stream",
          "name": "stdout",
          "text": [
            "Downloading data from https://www.cs.toronto.edu/~kriz/cifar-10-python.tar.gz\n",
            "170500096/170498071 [==============================] - 11s 0us/step\n",
            "170508288/170498071 [==============================] - 11s 0us/step\n"
          ]
        }
      ]
    },
    {
      "cell_type": "markdown",
      "source": [
        "# Normalize"
      ],
      "metadata": {
        "id": "48Xn-xHFE6vw"
      }
    },
    {
      "cell_type": "code",
      "source": [
        "x_train = x_train.astype('float32') / 255.0\n",
        "x_test = x_test.astype('float32') / 255.0"
      ],
      "metadata": {
        "id": "pv2SrixNE6LB"
      },
      "execution_count": 4,
      "outputs": []
    },
    {
      "cell_type": "markdown",
      "source": [
        "# Initialize model"
      ],
      "metadata": {
        "id": "1LeauvNMFHLB"
      }
    },
    {
      "cell_type": "code",
      "source": [
        "model = keras.Sequential(\n",
        "    [\n",
        "     keras.Input(shape=(32,32,3)),\n",
        "     layers.Conv2D(32, 3, padding='valid', activation='relu'),\n",
        "     layers.MaxPooling2D(pool_size=(2,2)),\n",
        "     layers.Conv2D(64, 3, activation='relu'),\n",
        "     layers.MaxPooling2D(pool_size=(2,2)),\n",
        "     layers.Conv2D(128, 3, activation='relu'),\n",
        "     layers.Flatten(),\n",
        "     layers.Dense(64,activation='relu'),\n",
        "     layers.Dense(10),\n",
        "\n",
        "    ]\n",
        ")"
      ],
      "metadata": {
        "id": "zWA9Xp4HFDw8"
      },
      "execution_count": 5,
      "outputs": []
    },
    {
      "cell_type": "code",
      "source": [
        "print(model.summary())"
      ],
      "metadata": {
        "colab": {
          "base_uri": "https://localhost:8080/"
        },
        "id": "dO9OQmwyGkV8",
        "outputId": "e0e5e1a4-c662-4068-b4e0-5c7867121fa7"
      },
      "execution_count": 6,
      "outputs": [
        {
          "output_type": "stream",
          "name": "stdout",
          "text": [
            "Model: \"sequential\"\n",
            "_________________________________________________________________\n",
            " Layer (type)                Output Shape              Param #   \n",
            "=================================================================\n",
            " conv2d (Conv2D)             (None, 30, 30, 32)        896       \n",
            "                                                                 \n",
            " max_pooling2d (MaxPooling2D  (None, 15, 15, 32)       0         \n",
            " )                                                               \n",
            "                                                                 \n",
            " conv2d_1 (Conv2D)           (None, 13, 13, 64)        18496     \n",
            "                                                                 \n",
            " max_pooling2d_1 (MaxPooling  (None, 6, 6, 64)         0         \n",
            " 2D)                                                             \n",
            "                                                                 \n",
            " conv2d_2 (Conv2D)           (None, 4, 4, 128)         73856     \n",
            "                                                                 \n",
            " flatten (Flatten)           (None, 2048)              0         \n",
            "                                                                 \n",
            " dense (Dense)               (None, 64)                131136    \n",
            "                                                                 \n",
            " dense_1 (Dense)             (None, 10)                650       \n",
            "                                                                 \n",
            "=================================================================\n",
            "Total params: 225,034\n",
            "Trainable params: 225,034\n",
            "Non-trainable params: 0\n",
            "_________________________________________________________________\n",
            "None\n"
          ]
        }
      ]
    },
    {
      "cell_type": "code",
      "source": [
        "def my_model():\n",
        "  with tf.device('/device:GPU:0'):\n",
        "      inputs = keras.Input(shape=(32, 32, 3))\n",
        "      x = layers.Conv2D(\n",
        "          32, 3, padding='same', kernel_regularizer=regularizers.l2(0.01))(inputs)\n",
        "      x = layers.BatchNormalization()(x)\n",
        "      x = keras.activations.relu(x)\n",
        "      x = layers.MaxPooling2D()(x)\n",
        "      \n",
        "      x = layers.Conv2D(\n",
        "          64, 3, padding='same', kernel_regularizer=regularizers.l2(0.01))(x)\n",
        "      x = layers.BatchNormalization()(x)\n",
        "      x = keras.activations.relu(x)\n",
        "      x = layers.MaxPooling2D()(x)\n",
        "      \n",
        "      x = layers.Conv2D(\n",
        "          128, 3, padding='same', kernel_regularizer=regularizers.l2(0.01))(x)\n",
        "      x = layers.BatchNormalization()(x)\n",
        "      x = keras.activations.relu(x)\n",
        "      \n",
        "      x = layers.Flatten()(x)\n",
        "      x = layers.Dense(\n",
        "          64, activation=\"relu\", kernel_regularizer=regularizers.l2(0.01))(x)\n",
        "      x = layers.Dropout(0.5)(x)\n",
        "      outputs = layers.Dense(10)(x)\n",
        "      model = keras.Model(inputs=inputs, outputs=outputs)\n",
        "      return model"
      ],
      "metadata": {
        "id": "mUkwMzqPZ5Kf"
      },
      "execution_count": 7,
      "outputs": []
    },
    {
      "cell_type": "code",
      "source": [
        "model = my_model()"
      ],
      "metadata": {
        "id": "fGPOAMl6KoJi"
      },
      "execution_count": 8,
      "outputs": []
    },
    {
      "cell_type": "code",
      "source": [
        "print(model.summary())\n"
      ],
      "metadata": {
        "colab": {
          "base_uri": "https://localhost:8080/"
        },
        "id": "sa_s0asmMMS9",
        "outputId": "8c191c74-6bca-43e8-a0a1-028349cb249c"
      },
      "execution_count": 9,
      "outputs": [
        {
          "output_type": "stream",
          "name": "stdout",
          "text": [
            "Model: \"model\"\n",
            "_________________________________________________________________\n",
            " Layer (type)                Output Shape              Param #   \n",
            "=================================================================\n",
            " input_2 (InputLayer)        [(None, 32, 32, 3)]       0         \n",
            "                                                                 \n",
            " conv2d_3 (Conv2D)           (None, 32, 32, 32)        896       \n",
            "                                                                 \n",
            " batch_normalization (BatchN  (None, 32, 32, 32)       128       \n",
            " ormalization)                                                   \n",
            "                                                                 \n",
            " tf.nn.relu (TFOpLambda)     (None, 32, 32, 32)        0         \n",
            "                                                                 \n",
            " max_pooling2d_2 (MaxPooling  (None, 16, 16, 32)       0         \n",
            " 2D)                                                             \n",
            "                                                                 \n",
            " conv2d_4 (Conv2D)           (None, 16, 16, 64)        18496     \n",
            "                                                                 \n",
            " batch_normalization_1 (Batc  (None, 16, 16, 64)       256       \n",
            " hNormalization)                                                 \n",
            "                                                                 \n",
            " tf.nn.relu_1 (TFOpLambda)   (None, 16, 16, 64)        0         \n",
            "                                                                 \n",
            " max_pooling2d_3 (MaxPooling  (None, 8, 8, 64)         0         \n",
            " 2D)                                                             \n",
            "                                                                 \n",
            " conv2d_5 (Conv2D)           (None, 8, 8, 128)         73856     \n",
            "                                                                 \n",
            " batch_normalization_2 (Batc  (None, 8, 8, 128)        512       \n",
            " hNormalization)                                                 \n",
            "                                                                 \n",
            " tf.nn.relu_2 (TFOpLambda)   (None, 8, 8, 128)         0         \n",
            "                                                                 \n",
            " flatten_1 (Flatten)         (None, 8192)              0         \n",
            "                                                                 \n",
            " dense_2 (Dense)             (None, 64)                524352    \n",
            "                                                                 \n",
            " dropout (Dropout)           (None, 64)                0         \n",
            "                                                                 \n",
            " dense_3 (Dense)             (None, 10)                650       \n",
            "                                                                 \n",
            "=================================================================\n",
            "Total params: 619,146\n",
            "Trainable params: 618,698\n",
            "Non-trainable params: 448\n",
            "_________________________________________________________________\n",
            "None\n"
          ]
        }
      ]
    },
    {
      "cell_type": "markdown",
      "source": [
        "# Model compile"
      ],
      "metadata": {
        "id": "ma7S5FwtIlNK"
      }
    },
    {
      "cell_type": "code",
      "source": [
        "model.compile(\n",
        "    loss = keras.losses.SparseCategoricalCrossentropy(from_logits=True),\n",
        "    optimizer = keras.optimizers.Adam(lr=3e-4),\n",
        "    metrics=['accuracy'],\n",
        ")"
      ],
      "metadata": {
        "colab": {
          "base_uri": "https://localhost:8080/"
        },
        "id": "fEN7xxAkHEL5",
        "outputId": "c207850b-0b76-4194-f7bf-a8d340adf78d"
      },
      "execution_count": 10,
      "outputs": [
        {
          "output_type": "stream",
          "name": "stderr",
          "text": [
            "/usr/local/lib/python3.7/dist-packages/keras/optimizer_v2/adam.py:105: UserWarning: The `lr` argument is deprecated, use `learning_rate` instead.\n",
            "  super(Adam, self).__init__(name, **kwargs)\n"
          ]
        }
      ]
    },
    {
      "cell_type": "markdown",
      "source": [
        "# Train and evaluate"
      ],
      "metadata": {
        "id": "mHzEfDtrIpxi"
      }
    },
    {
      "cell_type": "code",
      "source": [
        "with tf.device('/device:GPU:0'):\n",
        "  history = model.fit(x_train, y_train, batch_size=64, epochs=150, verbose=2)\n",
        "  model.evaluate(x_test, y_test, batch_size=64, verbose=2)"
      ],
      "metadata": {
        "colab": {
          "base_uri": "https://localhost:8080/"
        },
        "id": "yOB5sYz-lGZ5",
        "outputId": "4573d40f-1246-4673-b065-e53a3e445811"
      },
      "execution_count": 11,
      "outputs": [
        {
          "output_type": "stream",
          "name": "stdout",
          "text": [
            "Epoch 1/150\n",
            "782/782 - 20s - loss: 2.9899 - accuracy: 0.3240 - 20s/epoch - 25ms/step\n",
            "Epoch 2/150\n",
            "782/782 - 8s - loss: 1.9226 - accuracy: 0.4370 - 8s/epoch - 10ms/step\n",
            "Epoch 3/150\n",
            "782/782 - 8s - loss: 1.6508 - accuracy: 0.4925 - 8s/epoch - 10ms/step\n",
            "Epoch 4/150\n",
            "782/782 - 8s - loss: 1.5308 - accuracy: 0.5176 - 8s/epoch - 10ms/step\n",
            "Epoch 5/150\n",
            "782/782 - 8s - loss: 1.4683 - accuracy: 0.5349 - 8s/epoch - 10ms/step\n",
            "Epoch 6/150\n",
            "782/782 - 8s - loss: 1.4211 - accuracy: 0.5518 - 8s/epoch - 10ms/step\n",
            "Epoch 7/150\n",
            "782/782 - 8s - loss: 1.3999 - accuracy: 0.5593 - 8s/epoch - 10ms/step\n",
            "Epoch 8/150\n",
            "782/782 - 8s - loss: 1.3667 - accuracy: 0.5696 - 8s/epoch - 10ms/step\n",
            "Epoch 9/150\n",
            "782/782 - 8s - loss: 1.3477 - accuracy: 0.5763 - 8s/epoch - 10ms/step\n",
            "Epoch 10/150\n",
            "782/782 - 8s - loss: 1.3259 - accuracy: 0.5844 - 8s/epoch - 10ms/step\n",
            "Epoch 11/150\n",
            "782/782 - 8s - loss: 1.3135 - accuracy: 0.5889 - 8s/epoch - 10ms/step\n",
            "Epoch 12/150\n",
            "782/782 - 8s - loss: 1.2971 - accuracy: 0.5960 - 8s/epoch - 10ms/step\n",
            "Epoch 13/150\n",
            "782/782 - 8s - loss: 1.2991 - accuracy: 0.5962 - 8s/epoch - 10ms/step\n",
            "Epoch 14/150\n",
            "782/782 - 8s - loss: 1.2772 - accuracy: 0.6017 - 8s/epoch - 10ms/step\n",
            "Epoch 15/150\n",
            "782/782 - 8s - loss: 1.2717 - accuracy: 0.6075 - 8s/epoch - 11ms/step\n",
            "Epoch 16/150\n",
            "782/782 - 8s - loss: 1.2633 - accuracy: 0.6100 - 8s/epoch - 10ms/step\n",
            "Epoch 17/150\n",
            "782/782 - 8s - loss: 1.2523 - accuracy: 0.6143 - 8s/epoch - 10ms/step\n",
            "Epoch 18/150\n",
            "782/782 - 8s - loss: 1.2497 - accuracy: 0.6143 - 8s/epoch - 10ms/step\n",
            "Epoch 19/150\n",
            "782/782 - 8s - loss: 1.2305 - accuracy: 0.6253 - 8s/epoch - 10ms/step\n",
            "Epoch 20/150\n",
            "782/782 - 8s - loss: 1.2304 - accuracy: 0.6211 - 8s/epoch - 10ms/step\n",
            "Epoch 21/150\n",
            "782/782 - 8s - loss: 1.2228 - accuracy: 0.6310 - 8s/epoch - 10ms/step\n",
            "Epoch 22/150\n",
            "782/782 - 8s - loss: 1.2072 - accuracy: 0.6391 - 8s/epoch - 10ms/step\n",
            "Epoch 23/150\n",
            "782/782 - 8s - loss: 1.1969 - accuracy: 0.6377 - 8s/epoch - 10ms/step\n",
            "Epoch 24/150\n",
            "782/782 - 8s - loss: 1.1961 - accuracy: 0.6397 - 8s/epoch - 10ms/step\n",
            "Epoch 25/150\n",
            "782/782 - 8s - loss: 1.1900 - accuracy: 0.6471 - 8s/epoch - 10ms/step\n",
            "Epoch 26/150\n",
            "782/782 - 8s - loss: 1.1782 - accuracy: 0.6521 - 8s/epoch - 10ms/step\n",
            "Epoch 27/150\n",
            "782/782 - 8s - loss: 1.1735 - accuracy: 0.6563 - 8s/epoch - 10ms/step\n",
            "Epoch 28/150\n",
            "782/782 - 8s - loss: 1.1659 - accuracy: 0.6585 - 8s/epoch - 10ms/step\n",
            "Epoch 29/150\n",
            "782/782 - 8s - loss: 1.1644 - accuracy: 0.6584 - 8s/epoch - 10ms/step\n",
            "Epoch 30/150\n",
            "782/782 - 8s - loss: 1.1564 - accuracy: 0.6623 - 8s/epoch - 10ms/step\n",
            "Epoch 31/150\n",
            "782/782 - 8s - loss: 1.1440 - accuracy: 0.6680 - 8s/epoch - 10ms/step\n",
            "Epoch 32/150\n",
            "782/782 - 8s - loss: 1.1463 - accuracy: 0.6661 - 8s/epoch - 10ms/step\n",
            "Epoch 33/150\n",
            "782/782 - 8s - loss: 1.1438 - accuracy: 0.6681 - 8s/epoch - 10ms/step\n",
            "Epoch 34/150\n",
            "782/782 - 8s - loss: 1.1371 - accuracy: 0.6697 - 8s/epoch - 10ms/step\n",
            "Epoch 35/150\n",
            "782/782 - 8s - loss: 1.1309 - accuracy: 0.6740 - 8s/epoch - 10ms/step\n",
            "Epoch 36/150\n",
            "782/782 - 8s - loss: 1.1257 - accuracy: 0.6771 - 8s/epoch - 10ms/step\n",
            "Epoch 37/150\n",
            "782/782 - 8s - loss: 1.1196 - accuracy: 0.6779 - 8s/epoch - 10ms/step\n",
            "Epoch 38/150\n",
            "782/782 - 8s - loss: 1.1133 - accuracy: 0.6823 - 8s/epoch - 10ms/step\n",
            "Epoch 39/150\n",
            "782/782 - 8s - loss: 1.1132 - accuracy: 0.6819 - 8s/epoch - 10ms/step\n",
            "Epoch 40/150\n",
            "782/782 - 8s - loss: 1.1095 - accuracy: 0.6822 - 8s/epoch - 10ms/step\n",
            "Epoch 41/150\n",
            "782/782 - 8s - loss: 1.1131 - accuracy: 0.6814 - 8s/epoch - 10ms/step\n",
            "Epoch 42/150\n",
            "782/782 - 8s - loss: 1.0977 - accuracy: 0.6856 - 8s/epoch - 10ms/step\n",
            "Epoch 43/150\n",
            "782/782 - 8s - loss: 1.0971 - accuracy: 0.6883 - 8s/epoch - 10ms/step\n",
            "Epoch 44/150\n",
            "782/782 - 8s - loss: 1.0894 - accuracy: 0.6928 - 8s/epoch - 10ms/step\n",
            "Epoch 45/150\n",
            "782/782 - 8s - loss: 1.0927 - accuracy: 0.6907 - 8s/epoch - 10ms/step\n",
            "Epoch 46/150\n",
            "782/782 - 8s - loss: 1.0866 - accuracy: 0.6920 - 8s/epoch - 10ms/step\n",
            "Epoch 47/150\n",
            "782/782 - 8s - loss: 1.0867 - accuracy: 0.6925 - 8s/epoch - 10ms/step\n",
            "Epoch 48/150\n",
            "782/782 - 8s - loss: 1.0828 - accuracy: 0.6972 - 8s/epoch - 10ms/step\n",
            "Epoch 49/150\n",
            "782/782 - 8s - loss: 1.0797 - accuracy: 0.6983 - 8s/epoch - 10ms/step\n",
            "Epoch 50/150\n",
            "782/782 - 8s - loss: 1.0816 - accuracy: 0.6974 - 8s/epoch - 10ms/step\n",
            "Epoch 51/150\n",
            "782/782 - 8s - loss: 1.0766 - accuracy: 0.6989 - 8s/epoch - 10ms/step\n",
            "Epoch 52/150\n",
            "782/782 - 8s - loss: 1.0667 - accuracy: 0.7037 - 8s/epoch - 10ms/step\n",
            "Epoch 53/150\n",
            "782/782 - 8s - loss: 1.0671 - accuracy: 0.7048 - 8s/epoch - 10ms/step\n",
            "Epoch 54/150\n",
            "782/782 - 8s - loss: 1.0683 - accuracy: 0.7047 - 8s/epoch - 10ms/step\n",
            "Epoch 55/150\n",
            "782/782 - 8s - loss: 1.0600 - accuracy: 0.7099 - 8s/epoch - 10ms/step\n",
            "Epoch 56/150\n",
            "782/782 - 8s - loss: 1.0580 - accuracy: 0.7101 - 8s/epoch - 10ms/step\n",
            "Epoch 57/150\n",
            "782/782 - 8s - loss: 1.0557 - accuracy: 0.7101 - 8s/epoch - 10ms/step\n",
            "Epoch 58/150\n",
            "782/782 - 8s - loss: 1.0530 - accuracy: 0.7122 - 8s/epoch - 10ms/step\n",
            "Epoch 59/150\n",
            "782/782 - 8s - loss: 1.0502 - accuracy: 0.7133 - 8s/epoch - 10ms/step\n",
            "Epoch 60/150\n",
            "782/782 - 8s - loss: 1.0469 - accuracy: 0.7163 - 8s/epoch - 10ms/step\n",
            "Epoch 61/150\n",
            "782/782 - 8s - loss: 1.0444 - accuracy: 0.7171 - 8s/epoch - 10ms/step\n",
            "Epoch 62/150\n",
            "782/782 - 8s - loss: 1.0334 - accuracy: 0.7214 - 8s/epoch - 10ms/step\n",
            "Epoch 63/150\n",
            "782/782 - 8s - loss: 1.0400 - accuracy: 0.7175 - 8s/epoch - 10ms/step\n",
            "Epoch 64/150\n",
            "782/782 - 8s - loss: 1.0372 - accuracy: 0.7186 - 8s/epoch - 10ms/step\n",
            "Epoch 65/150\n",
            "782/782 - 8s - loss: 1.0351 - accuracy: 0.7219 - 8s/epoch - 10ms/step\n",
            "Epoch 66/150\n",
            "782/782 - 8s - loss: 1.0339 - accuracy: 0.7201 - 8s/epoch - 10ms/step\n",
            "Epoch 67/150\n",
            "782/782 - 8s - loss: 1.0302 - accuracy: 0.7237 - 8s/epoch - 10ms/step\n",
            "Epoch 68/150\n",
            "782/782 - 8s - loss: 1.0295 - accuracy: 0.7242 - 8s/epoch - 10ms/step\n",
            "Epoch 69/150\n",
            "782/782 - 8s - loss: 1.0286 - accuracy: 0.7237 - 8s/epoch - 10ms/step\n",
            "Epoch 70/150\n",
            "782/782 - 8s - loss: 1.0249 - accuracy: 0.7273 - 8s/epoch - 10ms/step\n",
            "Epoch 71/150\n",
            "782/782 - 8s - loss: 1.0208 - accuracy: 0.7290 - 8s/epoch - 10ms/step\n",
            "Epoch 72/150\n",
            "782/782 - 8s - loss: 1.0250 - accuracy: 0.7256 - 8s/epoch - 10ms/step\n",
            "Epoch 73/150\n",
            "782/782 - 8s - loss: 1.0192 - accuracy: 0.7282 - 8s/epoch - 10ms/step\n",
            "Epoch 74/150\n",
            "782/782 - 8s - loss: 1.0146 - accuracy: 0.7308 - 8s/epoch - 10ms/step\n",
            "Epoch 75/150\n",
            "782/782 - 8s - loss: 1.0152 - accuracy: 0.7299 - 8s/epoch - 10ms/step\n",
            "Epoch 76/150\n",
            "782/782 - 8s - loss: 1.0160 - accuracy: 0.7303 - 8s/epoch - 10ms/step\n",
            "Epoch 77/150\n",
            "782/782 - 8s - loss: 1.0158 - accuracy: 0.7310 - 8s/epoch - 10ms/step\n",
            "Epoch 78/150\n",
            "782/782 - 8s - loss: 1.0094 - accuracy: 0.7342 - 8s/epoch - 10ms/step\n",
            "Epoch 79/150\n",
            "782/782 - 8s - loss: 1.0118 - accuracy: 0.7315 - 8s/epoch - 10ms/step\n",
            "Epoch 80/150\n",
            "782/782 - 8s - loss: 1.0061 - accuracy: 0.7341 - 8s/epoch - 10ms/step\n",
            "Epoch 81/150\n",
            "782/782 - 8s - loss: 1.0012 - accuracy: 0.7372 - 8s/epoch - 10ms/step\n",
            "Epoch 82/150\n",
            "782/782 - 8s - loss: 1.0011 - accuracy: 0.7365 - 8s/epoch - 10ms/step\n",
            "Epoch 83/150\n",
            "782/782 - 8s - loss: 1.0006 - accuracy: 0.7357 - 8s/epoch - 10ms/step\n",
            "Epoch 84/150\n",
            "782/782 - 8s - loss: 1.0060 - accuracy: 0.7362 - 8s/epoch - 10ms/step\n",
            "Epoch 85/150\n",
            "782/782 - 8s - loss: 1.0062 - accuracy: 0.7369 - 8s/epoch - 10ms/step\n",
            "Epoch 86/150\n",
            "782/782 - 8s - loss: 1.0077 - accuracy: 0.7369 - 8s/epoch - 10ms/step\n",
            "Epoch 87/150\n",
            "782/782 - 8s - loss: 1.0029 - accuracy: 0.7394 - 8s/epoch - 10ms/step\n",
            "Epoch 88/150\n",
            "782/782 - 8s - loss: 1.0025 - accuracy: 0.7391 - 8s/epoch - 10ms/step\n",
            "Epoch 89/150\n",
            "782/782 - 8s - loss: 1.0013 - accuracy: 0.7408 - 8s/epoch - 10ms/step\n",
            "Epoch 90/150\n",
            "782/782 - 8s - loss: 0.9949 - accuracy: 0.7383 - 8s/epoch - 10ms/step\n",
            "Epoch 91/150\n",
            "782/782 - 8s - loss: 0.9919 - accuracy: 0.7412 - 8s/epoch - 10ms/step\n",
            "Epoch 92/150\n",
            "782/782 - 8s - loss: 0.9953 - accuracy: 0.7389 - 8s/epoch - 10ms/step\n",
            "Epoch 93/150\n",
            "782/782 - 8s - loss: 0.9958 - accuracy: 0.7411 - 8s/epoch - 10ms/step\n",
            "Epoch 94/150\n",
            "782/782 - 8s - loss: 0.9916 - accuracy: 0.7452 - 8s/epoch - 10ms/step\n",
            "Epoch 95/150\n",
            "782/782 - 8s - loss: 0.9979 - accuracy: 0.7389 - 8s/epoch - 10ms/step\n",
            "Epoch 96/150\n",
            "782/782 - 8s - loss: 0.9957 - accuracy: 0.7419 - 8s/epoch - 10ms/step\n",
            "Epoch 97/150\n",
            "782/782 - 8s - loss: 0.9936 - accuracy: 0.7434 - 8s/epoch - 10ms/step\n",
            "Epoch 98/150\n",
            "782/782 - 8s - loss: 0.9932 - accuracy: 0.7425 - 8s/epoch - 10ms/step\n",
            "Epoch 99/150\n",
            "782/782 - 8s - loss: 0.9955 - accuracy: 0.7410 - 8s/epoch - 10ms/step\n",
            "Epoch 100/150\n",
            "782/782 - 8s - loss: 0.9884 - accuracy: 0.7471 - 8s/epoch - 10ms/step\n",
            "Epoch 101/150\n",
            "782/782 - 8s - loss: 0.9861 - accuracy: 0.7428 - 8s/epoch - 10ms/step\n",
            "Epoch 102/150\n",
            "782/782 - 8s - loss: 0.9875 - accuracy: 0.7442 - 8s/epoch - 10ms/step\n",
            "Epoch 103/150\n",
            "782/782 - 8s - loss: 0.9899 - accuracy: 0.7448 - 8s/epoch - 10ms/step\n",
            "Epoch 104/150\n",
            "782/782 - 8s - loss: 0.9885 - accuracy: 0.7481 - 8s/epoch - 10ms/step\n",
            "Epoch 105/150\n",
            "782/782 - 8s - loss: 0.9805 - accuracy: 0.7490 - 8s/epoch - 10ms/step\n",
            "Epoch 106/150\n",
            "782/782 - 8s - loss: 0.9844 - accuracy: 0.7471 - 8s/epoch - 10ms/step\n",
            "Epoch 107/150\n",
            "782/782 - 8s - loss: 0.9868 - accuracy: 0.7466 - 8s/epoch - 10ms/step\n",
            "Epoch 108/150\n",
            "782/782 - 8s - loss: 0.9812 - accuracy: 0.7488 - 8s/epoch - 10ms/step\n",
            "Epoch 109/150\n",
            "782/782 - 8s - loss: 0.9917 - accuracy: 0.7455 - 8s/epoch - 10ms/step\n",
            "Epoch 110/150\n",
            "782/782 - 8s - loss: 0.9812 - accuracy: 0.7489 - 8s/epoch - 10ms/step\n",
            "Epoch 111/150\n",
            "782/782 - 8s - loss: 0.9845 - accuracy: 0.7484 - 8s/epoch - 10ms/step\n",
            "Epoch 112/150\n",
            "782/782 - 8s - loss: 0.9843 - accuracy: 0.7498 - 8s/epoch - 10ms/step\n",
            "Epoch 113/150\n",
            "782/782 - 8s - loss: 0.9791 - accuracy: 0.7519 - 8s/epoch - 10ms/step\n",
            "Epoch 114/150\n",
            "782/782 - 8s - loss: 0.9766 - accuracy: 0.7509 - 8s/epoch - 10ms/step\n",
            "Epoch 115/150\n",
            "782/782 - 8s - loss: 0.9765 - accuracy: 0.7510 - 8s/epoch - 10ms/step\n",
            "Epoch 116/150\n",
            "782/782 - 8s - loss: 0.9720 - accuracy: 0.7548 - 8s/epoch - 10ms/step\n",
            "Epoch 117/150\n",
            "782/782 - 8s - loss: 0.9751 - accuracy: 0.7543 - 8s/epoch - 10ms/step\n",
            "Epoch 118/150\n",
            "782/782 - 8s - loss: 0.9757 - accuracy: 0.7527 - 8s/epoch - 10ms/step\n",
            "Epoch 119/150\n",
            "782/782 - 8s - loss: 0.9762 - accuracy: 0.7531 - 8s/epoch - 10ms/step\n",
            "Epoch 120/150\n",
            "782/782 - 8s - loss: 0.9774 - accuracy: 0.7531 - 8s/epoch - 10ms/step\n",
            "Epoch 121/150\n",
            "782/782 - 8s - loss: 0.9785 - accuracy: 0.7530 - 8s/epoch - 10ms/step\n",
            "Epoch 122/150\n",
            "782/782 - 8s - loss: 0.9733 - accuracy: 0.7567 - 8s/epoch - 10ms/step\n",
            "Epoch 123/150\n",
            "782/782 - 8s - loss: 0.9733 - accuracy: 0.7524 - 8s/epoch - 10ms/step\n",
            "Epoch 124/150\n",
            "782/782 - 8s - loss: 0.9748 - accuracy: 0.7573 - 8s/epoch - 10ms/step\n",
            "Epoch 125/150\n",
            "782/782 - 8s - loss: 0.9701 - accuracy: 0.7550 - 8s/epoch - 10ms/step\n",
            "Epoch 126/150\n",
            "782/782 - 8s - loss: 0.9720 - accuracy: 0.7572 - 8s/epoch - 10ms/step\n",
            "Epoch 127/150\n",
            "782/782 - 8s - loss: 0.9730 - accuracy: 0.7545 - 8s/epoch - 10ms/step\n",
            "Epoch 128/150\n",
            "782/782 - 8s - loss: 0.9656 - accuracy: 0.7590 - 8s/epoch - 10ms/step\n",
            "Epoch 129/150\n",
            "782/782 - 8s - loss: 0.9732 - accuracy: 0.7571 - 8s/epoch - 10ms/step\n",
            "Epoch 130/150\n",
            "782/782 - 8s - loss: 0.9679 - accuracy: 0.7564 - 8s/epoch - 10ms/step\n",
            "Epoch 131/150\n",
            "782/782 - 8s - loss: 0.9660 - accuracy: 0.7579 - 8s/epoch - 10ms/step\n",
            "Epoch 132/150\n",
            "782/782 - 8s - loss: 0.9646 - accuracy: 0.7589 - 8s/epoch - 10ms/step\n",
            "Epoch 133/150\n",
            "782/782 - 8s - loss: 0.9649 - accuracy: 0.7579 - 8s/epoch - 10ms/step\n",
            "Epoch 134/150\n",
            "782/782 - 8s - loss: 0.9634 - accuracy: 0.7592 - 8s/epoch - 10ms/step\n",
            "Epoch 135/150\n",
            "782/782 - 8s - loss: 0.9698 - accuracy: 0.7593 - 8s/epoch - 10ms/step\n",
            "Epoch 136/150\n",
            "782/782 - 8s - loss: 0.9676 - accuracy: 0.7621 - 8s/epoch - 10ms/step\n",
            "Epoch 137/150\n",
            "782/782 - 8s - loss: 0.9633 - accuracy: 0.7602 - 8s/epoch - 10ms/step\n",
            "Epoch 138/150\n",
            "782/782 - 8s - loss: 0.9687 - accuracy: 0.7587 - 8s/epoch - 10ms/step\n",
            "Epoch 139/150\n",
            "782/782 - 8s - loss: 0.9616 - accuracy: 0.7616 - 8s/epoch - 10ms/step\n",
            "Epoch 140/150\n",
            "782/782 - 8s - loss: 0.9635 - accuracy: 0.7627 - 8s/epoch - 10ms/step\n",
            "Epoch 141/150\n",
            "782/782 - 8s - loss: 0.9662 - accuracy: 0.7615 - 8s/epoch - 10ms/step\n",
            "Epoch 142/150\n",
            "782/782 - 8s - loss: 0.9590 - accuracy: 0.7666 - 8s/epoch - 10ms/step\n",
            "Epoch 143/150\n",
            "782/782 - 8s - loss: 0.9554 - accuracy: 0.7666 - 8s/epoch - 10ms/step\n",
            "Epoch 144/150\n",
            "782/782 - 8s - loss: 0.9632 - accuracy: 0.7619 - 8s/epoch - 10ms/step\n",
            "Epoch 145/150\n",
            "782/782 - 8s - loss: 0.9669 - accuracy: 0.7592 - 8s/epoch - 10ms/step\n",
            "Epoch 146/150\n",
            "782/782 - 8s - loss: 0.9655 - accuracy: 0.7594 - 8s/epoch - 10ms/step\n",
            "Epoch 147/150\n",
            "782/782 - 8s - loss: 0.9543 - accuracy: 0.7641 - 8s/epoch - 10ms/step\n",
            "Epoch 148/150\n",
            "782/782 - 8s - loss: 0.9572 - accuracy: 0.7647 - 8s/epoch - 10ms/step\n",
            "Epoch 149/150\n",
            "782/782 - 8s - loss: 0.9608 - accuracy: 0.7616 - 8s/epoch - 10ms/step\n",
            "Epoch 150/150\n",
            "782/782 - 8s - loss: 0.9571 - accuracy: 0.7638 - 8s/epoch - 10ms/step\n",
            "157/157 - 1s - loss: 1.0926 - accuracy: 0.7464 - 1s/epoch - 7ms/step\n"
          ]
        }
      ]
    }
  ]
}